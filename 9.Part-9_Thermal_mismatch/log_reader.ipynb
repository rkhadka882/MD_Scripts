{
 "cells": [
  {
   "cell_type": "code",
   "execution_count": 1,
   "id": "a9f91e4e",
   "metadata": {},
   "outputs": [],
   "source": [
    "# Importing the modules\n",
    "import numpy as np\n",
    "import pandas as pd\n",
    "import matplotlib.pyplot as plt\n",
    "\n",
    "import os"
   ]
  },
  {
   "cell_type": "code",
   "execution_count": 56,
   "id": "deec1455",
   "metadata": {},
   "outputs": [],
   "source": [
    "plt.rcParams.update({'font.serif':'Arial', 'font.size': 20.0, \n",
    "                     'xtick.labelsize': 18, 'ytick.labelsize': 18,\n",
    "                    'legend.fontsize':18,\n",
    "                    'figure.dpi': 80.0, 'figure.figsize': [5, 4]})"
   ]
  },
  {
   "cell_type": "code",
   "execution_count": 57,
   "id": "e2ab5220",
   "metadata": {},
   "outputs": [],
   "source": [
    "# Function definition:\n",
    "def read_logfile(log_file):\n",
    "    \"\"\"\n",
    "    -Reads the logfile from lammps Output.jid file\n",
    "    \"\"\"\n",
    "    with open(log_file, 'r') as f:\n",
    "        lines = f.readlines()\n",
    "        data_values = []\n",
    "        header = None\n",
    "        error_count = 0\n",
    "        for i, line in enumerate(lines):\n",
    "            if line.startswith(\"Per MPI rank\"):\n",
    "                header = lines[i+1].strip().split()\n",
    "            if \"Time step     :\" in line:\n",
    "                time_step = i\n",
    "            try:\n",
    "                words = [list(map(float, line.strip().split()))]\n",
    "                if words !=[[]]:\n",
    "                    data_values.append(list(map(float, line.strip().split())))\n",
    "            except ValueError:\n",
    "                error_count += 1\n",
    "    #     print(\"Number of errors:\", error_count)\n",
    "\n",
    "    dt = float(lines[time_step].split()[3])     # Time step used in the simulations\n",
    "    sim_lines = np.array(data_values)\n",
    "    \n",
    "    # Read the data into a pandas DataFrame\n",
    "    data = pd.DataFrame(sim_lines, columns = header)\n",
    "    \n",
    "    print(\"Timestep :\", dt, \"Nlines:\", sim_lines.shape[0], \"Ncolumns:\", sim_lines.shape[1])\n",
    "#     print(\"Nlines   :\", sim_lines.shape[0])\n",
    "#     print(\"Ncolumns :\", sim_lines.shape[1])\n",
    "#     print(\"## Thermo quantities##\\n\", header)\n",
    "    \n",
    "    return data\n",
    "\n",
    "def plot_log(jid, skiplines):\n",
    "    \"\"\"Plots the variables in logfile\n",
    "    jid = jobid for Output.$jid\n",
    "    skiplines = NO. of initial lines to skip, 100 is good default number\"\"\"\n",
    "    \n",
    "    data = read_logfile(f'./Lammps_Outputs/Output.{jid}')   # Read the given log file\n",
    "    \n",
    "    if not os.path.exists(f'./Lammps_Outputs/jid_{jid}'):\n",
    "        os.system(f'mkdir -p ./Lammps_Outputs/jid_{jid}')          # make the folder to contian data\n",
    "\n",
    "    columns = header\n",
    "    for column in columns:\n",
    "        fig, ax = plt.subplots()\n",
    "        ax.plot(data[\"Step\"][skip_lines:]*dt, data[column][skip_lines:])\n",
    "        ax.set_xlabel(\"Time (ps)\")\n",
    "        ax.set_ylabel(column)\n",
    "        ax.set_title(f\"{column} vs Time\")\n",
    "\n",
    "        # Save the figure to a file\n",
    "        plt.savefig(f\"{column}_vs_time.png\", dpi= 80, bbox_inches = 'tight', facecolor=\"w\")\n",
    "    #     plt.show()\n",
    "        # Close the figure to free memory\n",
    "        plt.close(fig)\n",
    "\n",
    "    os.system(f'mv *.png ./Lammps_Outputs/jid_{jid}')\n",
    "    return data"
   ]
  },
  {
   "cell_type": "markdown",
   "id": "4cf4acd3",
   "metadata": {},
   "source": [
    "# Au 100"
   ]
  },
  {
   "cell_type": "code",
   "execution_count": 58,
   "id": "4823d8bb",
   "metadata": {},
   "outputs": [
    {
     "name": "stdout",
     "output_type": "stream",
     "text": [
      "Timestep : 0.0005 Nlines: 10001 Ncolumns: 18\n"
     ]
    }
   ],
   "source": [
    "# Bulk 001 along z direction\n",
    "\n",
    "# NPT, 300 K, 500 ps\n",
    "Au_100_NPT = plot_log(840770, 100)"
   ]
  },
  {
   "cell_type": "code",
   "execution_count": 59,
   "id": "4b0936d4",
   "metadata": {},
   "outputs": [
    {
     "name": "stdout",
     "output_type": "stream",
     "text": [
      "Timestep : 0.0005 Nlines: 2001 Ncolumns: 18\n"
     ]
    }
   ],
   "source": [
    "# NVT, 300K, 500ps : Followed after NPT equilibration\n",
    "# - 15% of sides are cutout\n",
    "Au_100_NVT = plot_log(841158, 100)\n",
    "\n",
    "# NVT, 300K, 500ps : 1.05*Do after jid=841158\n",
    "Au_100_NVT_5p = plot_log(841160, 100)\n"
   ]
  },
  {
   "cell_type": "code",
   "execution_count": 62,
   "id": "6ab06548",
   "metadata": {},
   "outputs": [
    {
     "name": "stdout",
     "output_type": "stream",
     "text": [
      "Timestep : 0.0005 Nlines: 2001 Ncolumns: 18\n"
     ]
    }
   ],
   "source": [
    "# NPT, 300K, 500ps: 1*Do after NPT bulk (jid=840770)\n",
    "Au_100_NPTpillar = plot_log(843087, 100)"
   ]
  },
  {
   "cell_type": "code",
   "execution_count": 63,
   "id": "15979500",
   "metadata": {},
   "outputs": [
    {
     "name": "stdout",
     "output_type": "stream",
     "text": [
      "Timestep : 0.0005 Nlines: 2001 Ncolumns: 18\n"
     ]
    }
   ],
   "source": [
    "# NPT, 300K, 500ps: 1.05*Do after NPT cutout (jid=843087)\n",
    "Au_100_NPTpillar = plot_log(843091, 100)"
   ]
  },
  {
   "cell_type": "code",
   "execution_count": null,
   "id": "bde3628f",
   "metadata": {},
   "outputs": [],
   "source": []
  },
  {
   "cell_type": "code",
   "execution_count": null,
   "id": "59c519fe",
   "metadata": {},
   "outputs": [],
   "source": []
  },
  {
   "cell_type": "code",
   "execution_count": null,
   "id": "21443ee5",
   "metadata": {},
   "outputs": [],
   "source": []
  },
  {
   "cell_type": "code",
   "execution_count": null,
   "id": "0f3c0b91",
   "metadata": {},
   "outputs": [],
   "source": []
  },
  {
   "cell_type": "code",
   "execution_count": null,
   "id": "e696c441",
   "metadata": {},
   "outputs": [],
   "source": [
    "jid = 840770\n",
    "skip_lines = 100                                        # skipping first 100 lines in the plotting to avoid artifacts. \n",
    "\n",
    "data = read_logfile(f'./Lammps_Outputs/Output.{jid}')   # Read the given log file\n",
    "os.system(f'mkdir ./Lammps_Outputs/jid_{jid}')          # make the folder to contian data\n",
    "\n",
    "columns = header\n",
    "for column in columns:\n",
    "    fig, ax = plt.subplots()\n",
    "    ax.plot(data[\"Step\"][skip_lines:]*dt, data[column][skip_lines:])\n",
    "    ax.set_xlabel(\"Time (ps)\")\n",
    "    ax.set_ylabel(column)\n",
    "    ax.set_title(f\"{column} vs Time\")\n",
    "\n",
    "    # Save the figure to a file\n",
    "    plt.savefig(f\"{column}_vs_time.png\", dpi= 80, bbox_inches = 'tight', facecolor=\"w\")\n",
    "#     plt.show()\n",
    "    # Close the figure to free memory\n",
    "    plt.close(fig)\n",
    "\n",
    "os.system(f'mv *.png ./Lammps_Outputs/jid_{jid}')\n",
    "\n"
   ]
  }
 ],
 "metadata": {
  "kernelspec": {
   "display_name": "Python 3 (ipykernel)",
   "language": "python",
   "name": "python3"
  },
  "language_info": {
   "codemirror_mode": {
    "name": "ipython",
    "version": 3
   },
   "file_extension": ".py",
   "mimetype": "text/x-python",
   "name": "python",
   "nbconvert_exporter": "python",
   "pygments_lexer": "ipython3",
   "version": "3.9.5"
  }
 },
 "nbformat": 4,
 "nbformat_minor": 5
}

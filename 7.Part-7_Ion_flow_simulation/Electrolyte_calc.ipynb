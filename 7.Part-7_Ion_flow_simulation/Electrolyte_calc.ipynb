{
 "cells": [
  {
   "cell_type": "markdown",
   "id": "c5e560ac",
   "metadata": {},
   "source": [
    "This script is to calculate the number of Li+ and PF6- for given \n",
    "1) Concentration \n",
    "\n",
    "2) Volume of the simulation box"
   ]
  },
  {
   "cell_type": "code",
   "execution_count": 1,
   "id": "54721c38",
   "metadata": {},
   "outputs": [],
   "source": [
    "import numpy as np\n",
    "import sys\n",
    "import os\n",
    "import seaborn as sns\n",
    "import matplotlib.pyplot as plt\n",
    "import cmath"
   ]
  },
  {
   "cell_type": "code",
   "execution_count": 2,
   "id": "944950c1",
   "metadata": {},
   "outputs": [
    {
     "name": "stdout",
     "output_type": "stream",
     "text": [
      "For every 2 Moles of Li+/PF6- there is  5.976962718177586 Moles of EC and  4.736525414006846 Moles of DMC\n",
      "\n",
      "No. of EC molecules needed: 1349.9717419343847\n",
      "No. of DMC molecules needed: 1069.803471321121\n",
      "No. of Li+ ions needed: 451.7249999999999\n",
      "No. of PF6- ions needed: 451.7249999999999\n",
      "Final density: 1.2567738866666667 gm/cm3\n"
     ]
    }
   ],
   "source": [
    "# Variable values\n",
    "Conc = 2  # 2 Moles/Liter concentration of LiPF6 in the solvent\n",
    "\n",
    "Lx = 50   # ang, Lx size of simulation box\n",
    "Ly = 50   # ang, Ly size of simulation box\n",
    "Lz = 150   # ang, Lz size of simulation box\n",
    "\n",
    "Vol = Lx*Ly*Lz   # Volume of simulation box  \n",
    "\n",
    "\n",
    "# Constant values\n",
    "rho_EC = 1.32 # gm/cm3\n",
    "rho_DMC = 1.07 # gm/cm3\n",
    "rho_LiPF6 = 1.5 # gm/cm3\n",
    "NA = 6.023*1e23 # Avogadro number\n",
    "\n",
    "mC = 12.01     # a.m.u or gm\n",
    "mH = 1.008     # a.m.u or gm\n",
    "mO = 15.999    # a.m.u or gm\n",
    "mLi = 6.941    # a.m.u or gm\n",
    "mP = 30.974    # a.m.u or gm\n",
    "mF = 18.998    # a.m.u or gm\n",
    "\n",
    "mEC = 3*mC+4*mH+3*mO  # C2H4-CO3, a.m.u or gm, mass of Ethylene carbonate\n",
    "mDMC = 3*mC+6*mH+3*mO # C2H6-CO3, a.m.u or gm, mass of Dimethyl carbonate\n",
    "mPF6 = mP+6*mF        # PF6, a.m.u or gm, mass of Hexaflurophosphate\n",
    "\n",
    "mLiPF6 = mLi+mPF6               # LiPF6\n",
    "vLiPF6 = Conc*mLiPF6/rho_LiPF6  # cm3, volume of 2 Mole of LiPF6\n",
    "vRem = 1e3-vLiPF6                 # subtracting volume of 2 M of LiPF6 from 1 L (1e3 cm3)\n",
    "\n",
    "# Calculating number of EC and DMC in Remaining mixture\n",
    "vEC = 0.5*vRem         # cm3, Half liter of EC\n",
    "vDMC = 0.5*vRem         # cm3, Half liter of DMC\n",
    "\n",
    "nEC = (rho_EC*vEC)/mEC;     # nEC moles in 1/2 liter\n",
    "\n",
    "nDMC = (rho_DMC*vDMC)/mDMC; # nDMC moles in 1/2 liter\n",
    "\n",
    "print(\"For every\", Conc, \"Moles of Li+/PF6- there is \", nEC, \"Moles of EC and \", nDMC, \"Moles of DMC\\n\")\n",
    "\n",
    "# Calculating the number of EC and DMC for given volume:\n",
    "N_EC = nEC*NA*Vol*1e-24/1e3              \n",
    "N_DMC =nDMC*NA*Vol*1e-24/1e3 \n",
    "N_Li = Conc*NA*Vol*1e-24/1e3\n",
    "N_PF6 = N_Li\n",
    "\n",
    "rho_final = (N_DMC*mDMC + N_EC*mEC + N_Li*mLi + N_PF6*mPF6)/(Vol*1e-24*NA)\n",
    "\n",
    "# printing\n",
    "print(\"No. of EC molecules needed:\", N_EC)\n",
    "print(\"No. of DMC molecules needed:\", N_DMC)\n",
    "print(\"No. of Li+ ions needed:\", N_Li)\n",
    "print(\"No. of PF6- ions needed:\", N_PF6)\n",
    "print(\"Final density:\", rho_final, \"gm/cm3\")"
   ]
  },
  {
   "cell_type": "code",
   "execution_count": 3,
   "id": "0d36266f",
   "metadata": {},
   "outputs": [],
   "source": [
    "# ratio = nEC/nDMC\n",
    "# rho_mix = (rho_EC*vEC+rho_DMC*vDMC+rho_LiPF6*vLiPF6)/(vEC+vDMC+vLiPF6)  # Density of the mixture\n",
    "# N_DMC = NA*(rho_mix*1e-24*Vol)/(ratio*mEC + mDMC)\n",
    "# N_EC = ratio*N_DMC\n",
    "# N_Li = (Conc/nEC)*N_EC\n",
    "# N_PF6 = N_Li\n",
    "# rho_final = (N_DMC*mDMC + N_EC*mEC + N_Li*mLi + N_PF6*mPF6)/(Vol*1e-24*NA)"
   ]
  },
  {
   "cell_type": "code",
   "execution_count": null,
   "id": "24e6677c",
   "metadata": {},
   "outputs": [],
   "source": []
  }
 ],
 "metadata": {
  "kernelspec": {
   "display_name": "Python 3 (ipykernel)",
   "language": "python",
   "name": "python3"
  },
  "language_info": {
   "codemirror_mode": {
    "name": "ipython",
    "version": 3
   },
   "file_extension": ".py",
   "mimetype": "text/x-python",
   "name": "python",
   "nbconvert_exporter": "python",
   "pygments_lexer": "ipython3",
   "version": "3.9.5"
  }
 },
 "nbformat": 4,
 "nbformat_minor": 5
}

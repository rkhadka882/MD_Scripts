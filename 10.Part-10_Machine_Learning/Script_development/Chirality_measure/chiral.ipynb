{
 "cells": [
  {
   "cell_type": "code",
   "execution_count": 14,
   "id": "e56e29f4",
   "metadata": {},
   "outputs": [],
   "source": [
    "# Importing the modules:\n",
    "import numpy as np\n",
    "import pandas as pd\n",
    "import matplotlib.pyplot as plt\n",
    "import os\n",
    "from scipy.spatial import distance"
   ]
  },
  {
   "cell_type": "code",
   "execution_count": 68,
   "id": "a10f5367",
   "metadata": {},
   "outputs": [],
   "source": [
    "def read_xyz(file_path, skiplines, skipcol):\n",
    "    \"\"\"Reading the atomic positions and normalizes\n",
    "    skiplines = 3 for XYZ, 8 for poscar\n",
    "    skipcol = 1 for xyz, 0 for poscar\n",
    "    \"\"\"\n",
    "    with open(file_path, 'r') as file:\n",
    "        lines = file.readlines()[skiplines:]  # Skip the first two lines (atom count and comment)\n",
    "        coordinates = [list(map(float, line.split()[skipcol:skipcol+4])) for line in lines]\n",
    "    pos = np.array(coordinates)\n",
    "    pos = pos/np.max(np.abs(pos)) + 1; print(np.max(pos))\n",
    "    pos = pos/np.max(np.abs(pos))\n",
    "    return pos\n",
    "\n",
    "def hausdorff_distance(set1, set2):\n",
    "#     set1 = set1/np.max(set1)\n",
    "#     set2 = set2/np.max(set2)\n",
    "    distance_matrix = distance.cdist(set1, set2)\n",
    "    directed_hausdorff_1_to_2 = np.max(np.min(distance_matrix, axis=1))\n",
    "    directed_hausdorff_2_to_1 = np.max(np.min(distance_matrix, axis=0))\n",
    "    return distance_matrix, directed_hausdorff_1_to_2, directed_hausdorff_2_to_1, max(directed_hausdorff_1_to_2, directed_hausdorff_2_to_1)"
   ]
  },
  {
   "cell_type": "code",
   "execution_count": 69,
   "id": "96b0b988",
   "metadata": {},
   "outputs": [
    {
     "name": "stdout",
     "output_type": "stream",
     "text": [
      "chiral.ipynb\n",
      "CoSi_10x10x10.xyz\n",
      "CoSi_1x1x1_22746.xyz\n",
      "CoSi_1x1x1_90_rotation.xyz\n",
      "CoSi_1x1x1_chiral_wall.xyz\n",
      "CoSi_1x1x1_distorted.xyz\n",
      "CoSi_1x1x1_trans5.vasp\n",
      "CoSi_1x1x1_trans5.xyz\n",
      "CoSi_1x1x1.vasp\n",
      "CoSi_1x1x1_X_mirror.vasp\n",
      "CoSi_1x1x1_X_mirror.xyz\n",
      "CoSi_1x1x1.xyz\n",
      "CoSi_1x1x1_Y_mirror.xyz\n",
      "CoSi_1x1x1_Z_mirror.xyz\n",
      "CoSi_2x2x2_22746.xyz\n",
      "CoSi_3x3x3_X_mirror.xyz\n",
      "CoSi_3x3x3.xyz\n"
     ]
    },
    {
     "data": {
      "text/plain": [
       "0"
      ]
     },
     "execution_count": 69,
     "metadata": {},
     "output_type": "execute_result"
    }
   ],
   "source": [
    "os.system('ls')"
   ]
  },
  {
   "cell_type": "code",
   "execution_count": 71,
   "id": "0fb4dd86",
   "metadata": {},
   "outputs": [
    {
     "name": "stdout",
     "output_type": "stream",
     "text": [
      "2.0\n",
      "2.0\n",
      "[[1.         0.8781207  0.7072931 ]\n",
      " [0.8781207  0.7072931  1.        ]\n",
      " [0.7072931  1.         0.8781207 ]\n",
      " [0.5854138  0.5854138  0.5854138 ]\n",
      " [0.59164026 0.70106664 0.88434716]\n",
      " [0.70106664 0.88434716 0.59164026]\n",
      " [0.88434716 0.59164026 0.70106664]\n",
      " [0.99377354 0.99377354 0.99377354]] \n",
      "\n",
      "[[0.93951322 0.55516658 0.53024339]\n",
      " [0.95729502 0.53024339 0.57294837]\n",
      " [0.98221821 0.57294837 0.55516658]\n",
      " [1.         0.5124616  0.5124616 ]\n",
      " [0.99909158 0.52933497 0.556075  ]\n",
      " [0.98312663 0.556075   0.51337002]\n",
      " [0.95638659 0.51337002 0.52933497]\n",
      " [0.94042164 0.57203995 0.57203995]] \n",
      "\n",
      "Distance matrix:\n",
      " [[0.37323533 0.37535429 0.34145105 0.41432583 0.38015684 0.37630347\n",
      "  0.40818413 0.33989472]\n",
      " [0.49757692 0.46902907 0.47619488 0.53898755 0.49332794 0.52029021\n",
      "  0.51503134 0.4531276 ]\n",
      " [0.61059117 0.6134349  0.60187729 0.67607515 0.64061327 0.63733555\n",
      "  0.64846572 0.575486  ]\n",
      " [0.35964576 0.37615795 0.39815075 0.42723034 0.41849123 0.40524877\n",
      "  0.38204183 0.35551131]\n",
      " [0.51738951 0.50975797 0.52661682 0.5836338  0.55070042 0.55848741\n",
      "  0.54249753 0.4856255 ]\n",
      " [0.41107931 0.43748354 0.42112437 0.48366237 0.4648843  0.43982574\n",
      "  0.45463642 0.393968  ]\n",
      " [0.18317807 0.15970365 0.17667755 0.23498235 0.19511742 0.21506346\n",
      "  0.2020091  0.14204367]\n",
      " [0.64045331 0.62712415 0.60795017 0.68070636 0.63820959 0.64998532\n",
      "  0.66924473 0.59880286]] \n",
      "Shape: (8, 8)\n",
      "1 to 2 0.5988028553360065\n",
      "2 to 1 0.23498234585898217\n",
      "Hausdorff Distance: 0.5988028553360065\n"
     ]
    }
   ],
   "source": [
    "# Replace 'file1.xyz' and 'file2.xyz' with your XYZ file paths\n",
    "xyz_file1 = 'CoSi_1x1x1.xyz'\n",
    "xyz_file2 = 'CoSi_1x1x1_X_mirror.xyz'\n",
    "\n",
    "# Read coordinates from XYZ files\n",
    "set1 = read_xyz(xyz_file1, 2, 1)\n",
    "set2 = read_xyz(xyz_file2, 2, 1)\n",
    "# set2 = read_xyz(xyz_file2, 8, 0)\n",
    "print(set1, '\\n')\n",
    "print(set2, '\\n')\n",
    "# Calculate and print Hausdorff distance\n",
    "matrix, val12, val21, distance_value = hausdorff_distance(set1, set2)\n",
    "print(\"Distance matrix:\\n\", matrix, \"\\nShape:\", matrix.shape)\n",
    "print(\"1 to 2\", val12)\n",
    "print(\"2 to 1\", val21)\n",
    "print(f'Hausdorff Distance: {distance_value}')"
   ]
  },
  {
   "cell_type": "code",
   "execution_count": null,
   "id": "cd117acf",
   "metadata": {},
   "outputs": [],
   "source": []
  },
  {
   "cell_type": "code",
   "execution_count": null,
   "id": "0b1ee196",
   "metadata": {},
   "outputs": [],
   "source": []
  },
  {
   "cell_type": "code",
   "execution_count": null,
   "id": "ac3eef61",
   "metadata": {},
   "outputs": [],
   "source": []
  },
  {
   "cell_type": "code",
   "execution_count": null,
   "id": "8dc250bb",
   "metadata": {},
   "outputs": [],
   "source": []
  }
 ],
 "metadata": {
  "kernelspec": {
   "display_name": "Python 3 (ipykernel)",
   "language": "python",
   "name": "python3"
  },
  "language_info": {
   "codemirror_mode": {
    "name": "ipython",
    "version": 3
   },
   "file_extension": ".py",
   "mimetype": "text/x-python",
   "name": "python",
   "nbconvert_exporter": "python",
   "pygments_lexer": "ipython3",
   "version": "3.9.5"
  }
 },
 "nbformat": 4,
 "nbformat_minor": 5
}

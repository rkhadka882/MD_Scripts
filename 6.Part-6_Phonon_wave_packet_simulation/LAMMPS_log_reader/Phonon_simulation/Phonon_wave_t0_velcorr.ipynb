{
 "cells": [
  {
   "cell_type": "code",
   "execution_count": 1,
   "id": "783aa383",
   "metadata": {},
   "outputs": [],
   "source": [
    "# Algorithm:\n",
    "# read the position and velocity data\n",
    "# sort position data by Z-position\n",
    "\n",
    "# For Longitudinal acoustic mode, use LA mode frequency from dispersion relation\n",
    "# Calculate and add displacement in z-direction and velocity in the z-direction as well\n",
    "\n",
    "# For Transverse acoustic mode along x-dirn, use TAx mode frequency from dispersion relation\n",
    "# Calculate and add displacement in x-direction and velocity in the x-direction as well\n",
    "\n",
    "# Remember the structure file produced will have atom id in floating point, put it into ovito\n",
    "# save as atomic full style, then it will correct it. Just a final work around. But it will\n",
    "# make all velocity values zero, so copy it from the original file created from here."
   ]
  },
  {
   "cell_type": "code",
   "execution_count": 2,
   "id": "569b5857",
   "metadata": {},
   "outputs": [],
   "source": [
    "import numpy as np\n",
    "import sys\n",
    "import os\n",
    "import seaborn as sns\n",
    "import matplotlib.pyplot as plt\n",
    "import cmath"
   ]
  },
  {
   "cell_type": "code",
   "execution_count": 3,
   "id": "dd9479bc",
   "metadata": {},
   "outputs": [
    {
     "name": "stdout",
     "output_type": "stream",
     "text": [
      "1.0\n"
     ]
    }
   ],
   "source": [
    "# Phonon dispersion relation values:\n",
    "# These values should be obtained from Phonon-dispersion relation of Au \n",
    "\n",
    "# Calculated by XW:\n",
    "# TA_freq = np.array([0, 422531609399.84, 834200909849.15, 1224563660601.91, 1583947824780.52, \n",
    "#                  1903668508126.36, 2176185219999.14, 2395114621687.84, 2555327626841.41, \n",
    "#                  2653016453446.38, 2685847412572.21])  # frequency in Hz\n",
    "# LA_freq = np.array([0, 928780803795.77, 1849542776769.78, 2750148874370.31, 3611995172904.95,\n",
    "#                         4410212916740.89, 5116139573866.81, 5700820244640.96, 6138553474768.24,\n",
    "#                         6409474658336.53, 6501180691475.74])\n",
    "\n",
    "# Along 000 ==> 111 direction\n",
    "LA_freq = np.array([0.00,925461626247.93,1843126160310.45,2741039078132.37,3600698718147.45,\n",
    "                    4397269403736.85,5102035424373.30,5685976180599.75,6123273156203.04,\n",
    "                    6393976302314.61,6485618869485.52])\n",
    "\n",
    "TA_freq = np.array([0.00,419656228038.71,828716471524.88,1216957807640.71,1574837572634.86,\n",
    "                    1893702257207.15,2165911021001.29,2384922632417.69,2545398447322.77,\n",
    "                    2643344720528.80,2676275393098.56])\n",
    "\n",
    "k_val = np.arange(0.0, 1.1, 0.1); print(k_val[10])\n",
    "\n",
    "# TA_freq_THz = TA_freq/1e12; \n",
    "# LA_freq_THz = LA_freq/1e12;\n",
    "\n",
    "# plt.plot(k_val, TA_freq_THz, 'o-r', label='TA mode')\n",
    "# plt.plot(k_val, LA_freq_THz, 'o-b', label='LA mode')\n",
    "# plt.xlabel('k values [$\\pi$/a]')\n",
    "# plt.ylabel('Frequency [THz]')\n",
    "# plt.title('Phonon dispersion relation of Au, (000) to (111) ')\n",
    "# plt.legend()\n",
    "# plt.show()"
   ]
  },
  {
   "cell_type": "code",
   "execution_count": 4,
   "id": "9bfbe161",
   "metadata": {},
   "outputs": [
    {
     "name": "stdout",
     "output_type": "stream",
     "text": [
      "LA freq: 6.48561886948552 THz TA freq:  2.67627539309856 THz\n"
     ]
    }
   ],
   "source": [
    "# Input variables:\n",
    "a0 = 4.079016               # lattice parameter of Au, a = 4.0782(lit), 4.07901835(calc)\n",
    "A = 0.002                   # Amplitude of the wave in angstrom, 2e-3\n",
    "eps_k0 = 1                  # e(k0) = Polarization wave vector, why 1?\n",
    "\n",
    "val = 10\n",
    "\n",
    "# a = a0                           # Case-1     \n",
    "# a = a0*np.sqrt(3)              # Case-2\n",
    "a = a0/np.sqrt(3)              # Case-3\n",
    "\n",
    "# a = a0                                # Case-4\n",
    "# w_LA = 2*np.pi*LA_freq[val]           # in Hz, LA freq corresponding to k0 = 0.9*pi/a\n",
    "\n",
    "gamma = 50*a0               # Spatial extent\n",
    "\n",
    "k0 = k_val[val]*np.pi/a               # wave vector, k0 = 0.9*pi/a\n",
    "\n",
    "w_LA = 2*np.pi*LA_freq[val]           # in Hz, LA freq corresponding to k0 = 0.9*pi/a\n",
    "w_TA = 2*np.pi*TA_freq[val]           # in Hz, TA freq corresponding to k0 = 0.9*pi/a\n",
    "\n",
    "# Structural variable:\n",
    "N_atoms = 358560  # Number of atoms\n",
    "N_layer = 996     # Number of Au(111) layers\n",
    "N_layeratom = 360 # Number of atoms in each Au(111) layer N_atoms/N_layer\n",
    "\n",
    "print(\"LA freq:\", LA_freq[val]/1e12,\"THz\", \"TA freq: \", TA_freq[val]/1e12, \"THz\")"
   ]
  },
  {
   "cell_type": "code",
   "execution_count": 5,
   "id": "d8283251",
   "metadata": {},
   "outputs": [
    {
     "name": "stdout",
     "output_type": "stream",
     "text": [
      "Shape of position: (358560, 10)\n",
      "Shape of velocity: (358560, 4)\n"
     ]
    }
   ],
   "source": [
    "offset_p = 19\n",
    "N_atoms = 358560\n",
    "\n",
    "# print(\"Original position: data.npt50psaurelax_EM\")\n",
    "with open(\"data_cg_boxrelax.npt50psaurelax_EM\", \"r\") as file:   # jid=253256\n",
    "    lines = file.readlines()\n",
    "\n",
    "# Read position data:\n",
    "plines = lines[offset_p:(N_atoms+offset_p)]\n",
    "# Extract data from line 19 to 358579\n",
    "position = np.array([list(map(float, line.strip().split())) for line in plines])\n",
    "print(\"Shape of position:\", position.shape)\n",
    "\n",
    "# Read velocity data:\n",
    "offset_v = N_atoms+offset_p + 3\n",
    "vlines = lines[offset_v:(N_atoms+offset_v)]\n",
    "# Extract data from line 19 to 358579\n",
    "velocity = np.array([list(map(float, line.strip().split())) for line in vlines])\n",
    "print(\"Shape of velocity:\", velocity.shape)"
   ]
  },
  {
   "cell_type": "code",
   "execution_count": 6,
   "id": "a33a6391",
   "metadata": {},
   "outputs": [],
   "source": [
    "# Sorting the position according to Z-position:\n",
    "sorted_index = np.argsort(position[:, 6])\n",
    "position = position[sorted_index]            # col 4 = x, col 5 = y, col 6 = z\n",
    "\n",
    "# Sorting the velocity according to atomid:\n",
    "v_index = np.argsort(velocity[:, 0])    # sorting according to atom id\n",
    "velocity = velocity[v_index];\n",
    "vx = velocity[:, 1]\n",
    "vy = velocity[:, 2]\n",
    "vz = velocity[:, 3]"
   ]
  },
  {
   "cell_type": "code",
   "execution_count": 7,
   "id": "6796bbe1",
   "metadata": {},
   "outputs": [
    {
     "name": "stdout",
     "output_type": "stream",
     "text": [
      "Maximum Z-position: 2340.6464846223594\n",
      "Minimum Z-position: -2.6007416136501784\n"
     ]
    }
   ],
   "source": [
    "maxZ = np.max(position[:, 6]); print('Maximum Z-position:', maxZ)\n",
    "minZ = np.min(position[:, 6]); print('Minimum Z-position:', minZ)\n",
    "\n",
    "# position[:, 6] = position[:, 6] - minZ       # shifting the lower limit to zero\n",
    "\n",
    "# plt.figure(figsize =(25, 5))\n",
    "# plt.plot(position[:, 6], position[:, 5], '.', markersize=0.1)\n",
    "# plt.xlabel('Z-position [A]')\n",
    "# plt.ylabel('Y-position [A]')\n",
    "# plt.show()"
   ]
  },
  {
   "cell_type": "code",
   "execution_count": 8,
   "id": "e2a0a8f8",
   "metadata": {},
   "outputs": [],
   "source": [
    "N_layers = position.shape[0] // N_layeratom   # Number of Au layers\n",
    "\n",
    "# initialize the new array\n",
    "Au_layers = np.zeros((N_layers, 1)) # Creating empty array\n",
    "\n",
    "# loop over the number of averages\n",
    "for i in range(N_layers):\n",
    "    start = i * N_layeratom\n",
    "    end = (i + 1) * N_layeratom\n",
    "    \n",
    "    # calculate the average of every 360 rows\n",
    "    avg = np.mean(position[start:end, 6], axis=0)\n",
    "    \n",
    "    # store the average in the new array\n",
    "    Au_layers[i, 0] = avg\n",
    "Au_layers = Au_layers.reshape(-1)         "
   ]
  },
  {
   "cell_type": "code",
   "execution_count": 9,
   "id": "06a3e3c6",
   "metadata": {},
   "outputs": [],
   "source": [
    "# Computing the displacements\n",
    "xn = Au_layers                             # All positions\n",
    "x0 = xn[xn.shape[0]//2]      # middle of the Au layer, for 2600 A"
   ]
  },
  {
   "cell_type": "code",
   "execution_count": 10,
   "id": "4970b60b",
   "metadata": {},
   "outputs": [
    {
     "data": {
      "image/png": "[encoded data removed]",
      "text/plain": [
       "<Figure size 432x288 with 1 Axes>"
      ]
     },
     "metadata": {
      "needs_background": "light"
     },
     "output_type": "display_data"
    },
    {
     "data": {
      "image/png": "[encoded data removed]",
      "text/plain": [
       "<Figure size 432x288 with 1 Axes>"
      ]
     },
     "metadata": {
      "needs_background": "light"
     },
     "output_type": "display_data"
    }
   ],
   "source": [
    "y = 0 + k0*(xn - x0)*1j\n",
    "disp = A*eps_k0*np.exp(-(xn - x0)**2/gamma**2)*np.exp(y)\n",
    "\n",
    "# Plot the position\n",
    "U = np.real(disp)                        # Take the real part for displacement\n",
    "Uimg = np.imag(disp)\n",
    "plt.plot(xn, U, label='real')\n",
    "# plt.plot(xn, Uimg, label='imag')\n",
    "plt.xlabel(\"Z-axis coordinate [A]\")\n",
    "plt.ylabel(\"Displacement [A]\")\n",
    "# plt.xlim(800, 900)\n",
    "# plt.ylim(-0.2, 0.2)\n",
    "plt.axhline(0.002, color='k', ls='--')\n",
    "plt.axhline(-0.002, color='k', ls='--')\n",
    "plt.savefig(\"Wave-packet_displacement.png\", dpi= 200, bbox_inches = 'tight', facecolor=\"w\")\n",
    "plt.show()\n",
    "\n",
    "\n",
    "# Plot the velocity\n",
    "vel = (w_LA*np.imag(disp))/1e12           # For LA mode set this as velocity in z-dirn, A/ps            \n",
    "plt.plot(xn, vel)\n",
    "plt.xlabel(\"Z-axis coordinate [A]\")\n",
    "plt.ylabel(\"velocity, v [A/ps]\")\n",
    "plt.savefig(\"Wave-packet_velocity.png\", dpi= 200, bbox_inches = 'tight', facecolor=\"w\")\n",
    "# plt.xlim(500, 550)\n",
    "# plt.ylim(-0.5, 0.5)\n",
    "plt.show()\n",
    "\n",
    "# np.savetxt(\"Wave-packet_displacement.dat\", U)\n",
    "# np.savetxt(\"Wave-packet_velocity.dat\", vel) "
   ]
  },
  {
   "cell_type": "code",
   "execution_count": 11,
   "id": "eb8fe706",
   "metadata": {},
   "outputs": [],
   "source": [
    "# Repeating each of these values 360 times for all the atoms in each Au layer\n",
    "new_pos = (U.reshape(U.shape[0], 1) @ np.ones(N_layeratom).reshape(1, N_layeratom)).flatten()\n",
    "new_vel = (vel.reshape(vel.shape[0], 1) @ np.ones(N_layeratom).reshape(1, N_layeratom)).flatten()"
   ]
  },
  {
   "cell_type": "code",
   "execution_count": 12,
   "id": "5d0b8397",
   "metadata": {},
   "outputs": [],
   "source": [
    "# Now let's do the replacement of both position and velocity:\n",
    "\n",
    "# position\n",
    "# Adding displacement to the Z-position \n",
    "# new_z = position[:, 6] + new_pos\n",
    "position[:, 6] = 1.0000000000*new_pos + 1.0000000000*position[:, 6]\n",
    "\n",
    "phonon_pos = position[:, 0:7]                     # only taking from 0 to 6th column\n",
    "p_index = np.argsort(phonon_pos[:, 0])\n",
    "phonon_pos = phonon_pos[p_index]\n",
    "\n",
    "# velocity\n",
    "# replacing vz component of velocity, vx = vy = 0 A/ps for LA mode\n",
    "velocity[:, 0] = position[:, 0]                 # atom ids\n",
    "# velocity[:, 1] = vx                             # vx = 0 A/ps\n",
    "# velocity[:, 2] = vy                             # vy = 0 A/ps\n",
    "# velocity[:, 3] = vz + 1.0000000000*new_vel      # vz = computed velocity\n",
    "velocity[:, 1] = np.zeros(velocity.shape[0])    # vx = 0 A/ps\n",
    "velocity[:, 2] = np.zeros(velocity.shape[0])    # vy = 0 A/ps\n",
    "velocity[:, 3] = 1.0000000000*new_vel           # vz = computed velocity\n",
    "\n",
    "# Sorting the velocity according to atomid:\n",
    "v_index = np.argsort(velocity[:, 0])\n",
    "velocity = velocity[v_index];\n",
    "# velocity = np.abs(velocity[v_index]); "
   ]
  },
  {
   "cell_type": "code",
   "execution_count": 13,
   "id": "02414e5f",
   "metadata": {},
   "outputs": [],
   "source": [
    "# os.system('rm Au_111_18x10x332*.lmp')\n",
    "\n",
    "with open(\"Au_111_18x10x332_A002_k10_abysqrt3.lmp\", \"w\") as output_file:\n",
    "    \n",
    "    output_file.write(lines[0])\n",
    "    output_file.write(lines[2])\n",
    "    output_file.write(lines[3])\n",
    "    \n",
    "    for i in range(5, 13):\n",
    "        output_file.write(lines[i])\n",
    "\n",
    "    for i in range(17, 19):\n",
    "        output_file.write(lines[i])\n",
    "\n",
    "    for item in phonon_pos:\n",
    "        output_file.write(str(int(item[0]))+ '\\t' + str(int(item[1]))+ '\\t' +\n",
    "                          str(int(item[2]))+ '\\t' + \n",
    "                          '\\t'.join(str(elem) for elem in item[3:]) + '\\n')\n",
    "#         output_file.write(item_arr + \"\\n\")\n",
    "    \n",
    "    output_file.write(\"\\n\")\n",
    "    output_file.write(\"Velocities\"+ \"\\n\")\n",
    "    output_file.write(\"\\n\")\n",
    "    \n",
    "    for item in velocity:\n",
    "        output_file.write(str(int(item[0]))+ '\\t' + '\\t'.join(str(elem) for elem in item[1:]) + '\\n')\n",
    "#         item_arr = \" \".join(str(elem) for elem in item)\n",
    "#         output_file.write(item_arr + \"\\n\")\n",
    "\n",
    "       \n",
    "# np.savetxt(\"Velocity.dat\", velocity)\n",
    "# np.savetxt(\"Displacement.dat\", phonon_pos)\n"
   ]
  },
  {
   "cell_type": "code",
   "execution_count": 14,
   "id": "4d9228de",
   "metadata": {},
   "outputs": [
    {
     "name": "stdout",
     "output_type": "stream",
     "text": [
      "Input paramters:\n",
      "k-value: 1.0\n",
      "Selected frequency: 6.48561886948552 THz\n",
      "Lattice parameter: 2.3550209856287907 Ang\n",
      "Center of wave packet: 1170.2003833792658\n"
     ]
    }
   ],
   "source": [
    "print('Input paramters:')\n",
    "print('k-value:', k_val[val])\n",
    "print('Selected frequency:', LA_freq[val]/1e12, 'THz')\n",
    "print('Lattice parameter:', a, 'Ang')\n",
    "print('Center of wave packet:', x0)"
   ]
  },
  {
   "cell_type": "code",
   "execution_count": 15,
   "id": "6fe425ee",
   "metadata": {},
   "outputs": [
    {
     "data": {
      "text/plain": [
       "0"
      ]
     },
     "execution_count": 15,
     "metadata": {},
     "output_type": "execute_result"
    }
   ],
   "source": [
    "# Sorting the position according to Z-position:\n",
    "sorted_index = np.argsort(position[:, 0])\n",
    "position = position[sorted_index]            # col 4 = x, col 5 = y, col 6 = z\n",
    "np.savetxt(\"z_disp_vel.dat\", np.hstack((position[:, 6][:, None], \n",
    "                                        phonon_pos[:, 6][:, None], velocity[:, 3][:, None])))\n",
    "\n",
    "# Creating directory and moving file:\n",
    "os.system('mkdir A002_k10_abysqrt3')\n",
    "os.system('mv *.dat *.png *.lmp A002_k10_abysqrt3')"
   ]
  },
  {
   "cell_type": "code",
   "execution_count": null,
   "id": "3c19d685",
   "metadata": {},
   "outputs": [],
   "source": []
  },
  {
   "cell_type": "code",
   "execution_count": null,
   "id": "bc6bbf19",
   "metadata": {},
   "outputs": [],
   "source": []
  },
  {
   "cell_type": "code",
   "execution_count": null,
   "id": "b37fc4bf",
   "metadata": {},
   "outputs": [],
   "source": []
  },
  {
   "cell_type": "code",
   "execution_count": null,
   "id": "7f2c94c3",
   "metadata": {},
   "outputs": [],
   "source": []
  },
  {
   "cell_type": "code",
   "execution_count": null,
   "id": "2b278f35",
   "metadata": {},
   "outputs": [],
   "source": []
  }
 ],
 "metadata": {
  "kernelspec": {
   "display_name": "Python 3 (ipykernel)",
   "language": "python",
   "name": "python3"
  },
  "language_info": {
   "codemirror_mode": {
    "name": "ipython",
    "version": 3
   },
   "file_extension": ".py",
   "mimetype": "text/x-python",
   "name": "python",
   "nbconvert_exporter": "python",
   "pygments_lexer": "ipython3",
   "version": "3.9.5"
  }
 },
 "nbformat": 4,
 "nbformat_minor": 5
}

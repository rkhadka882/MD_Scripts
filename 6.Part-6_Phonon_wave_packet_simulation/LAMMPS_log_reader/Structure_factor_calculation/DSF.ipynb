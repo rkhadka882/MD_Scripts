{
 "cells": [
  {
   "cell_type": "markdown",
   "id": "94581416",
   "metadata": {},
   "source": [
    "The velocity autocorrelation function (VACF) is given by:\n",
    "\n",
    "$$C_v(t) = \\frac{1}{N}\\sum_i \\sum_j \\vec{v}_i(t)\\cdot\\vec{v}_j(0)$$\n",
    "\n",
    "where $N$ is the number of atoms in the system, $\\vec{v}_i(t)$ is the velocity of atom $i$ at time $t$, and the sum is taken over all atoms and all times $t$.\n",
    "\n",
    "The static structure factor (SSF) is given by:\n",
    "\n",
    "$$S(q) = \\frac{1}{N}\\sum_{j=1}^N \\exp\\left(-i\\vec{q}\\cdot\\vec{r}_j\\right)$$\n",
    "\n",
    "where $N$ is the number of atoms in the system, $\\vec{r}_j$ is the position of atom $j$, $\\vec{q}$ is the wavevector, and the sum is taken over all atoms.\n",
    "\n",
    "The dynamic structure factor (DSF) is given by:\n",
    "\n",
    "$$S(q,\\omega) = \\frac{1}{N}\\sum_{j=1}^N \\sum_{k=1}^{Nt} \\exp\\left(-i\\vec{q}\\cdot\\vec{r}_j\\right) \\exp\\left(-i\\omega t_k\\right) \\vec{v}_j(t_k)\\cdot\\vec{v}_k(0)$$\n",
    "\n",
    "where $N$ is the number of atoms in the system, $\\vec{r}_j$ is the position of atom $j$, $\\vec{v}_j(t_k)$ is the velocity of atom $j$ at time $t_k$, $\\vec{v}_k(0)$ is the velocity of atom $k$ at time $0$, $Nt$ is the number of simulation time steps, $\\omega$ is the frequency, $\\vec{q}$ is the wavevector, and the sums are taken over all atoms and all simulation time steps."
   ]
  },
  {
   "cell_type": "code",
   "execution_count": 1,
   "id": "3e1b3e4c",
   "metadata": {},
   "outputs": [],
   "source": [
    "import numpy as np\n",
    "from scipy.fftpack import fft, fftfreq\n",
    "import matplotlib.pyplot as plt"
   ]
  },
  {
   "cell_type": "code",
   "execution_count": null,
   "id": "12e66fb1",
   "metadata": {},
   "outputs": [],
   "source": [
    "# Define the parameters of the simulation\n",
    "n_atoms = 1000  # number of atoms in the system\n",
    "box_size = 5.0  # size of the simulation box\n",
    "dt = 0.001  # time step of the simulation\n",
    "t_total = 1000  # total simulation time\n",
    "n_steps = int(t_total / dt)  # number of simulation steps\n",
    "\n",
    "# Define the variables needed for the calculations\n",
    "q_max = np.pi / box_size\n",
    "q_values = np.arange(0, q_max, 0.1)  # wavevector values for the static structure factor\n",
    "omega_values = 2 * np.pi * fftfreq(n_steps, dt)  # frequency values for the dynamic structure factor\n",
    "\n",
    "# Read in the position and velocity data from the LAMMPS dump file\n",
    "data = np.genfromtxt('gold_block.dump', skip_header=9)\n",
    "\n",
    "# Extract the positions and velocities of the atoms\n",
    "positions = data[:, 2:5]\n",
    "velocities = data[:, 5:]\n",
    "\n",
    "# Calculate the velocity autocorrelation function (VACF)\n",
    "vacf = np.zeros(n_steps)\n",
    "for i in range(n_atoms):\n",
    "    for j in range(n_steps):\n",
    "        vacf[j] += np.dot(velocities[i + n_atoms*j], velocities[i])\n",
    "vacf /= (n_atoms * n_steps)\n",
    "\n",
    "# Calculate the static structure factor (SSF)\n",
    "ssf = np.zeros(len(q_values))\n",
    "for i, q in enumerate(q_values):\n",
    "    for j in range(n_atoms):\n",
    "        phase = np.dot(positions[j], q)\n",
    "        ssf[i] += np.exp(-1j*phase)\n",
    "ssf /= n_atoms\n",
    "\n",
    "# Plot the static structure factor\n",
    "plt.plot(q_values, np.abs(ssf)**2)\n",
    "plt.xlabel('q')\n",
    "plt.ylabel('S(q)')\n",
    "plt.show()\n",
    "\n",
    "# Calculate the dynamic structure factor (DSF)\n",
    "dsf = np.zeros((len(q_values), len(omega_values)))\n",
    "for i, q in enumerate(q_values):\n",
    "    for j, omega in enumerate(omega_values):\n",
    "        for k in range(n_atoms):\n",
    "            phase = np.dot(positions[k], q)\n",
    "            dsf[i, j] += np.exp(-1j*phase) * np.exp(-1j*omega*j*dt) * np.dot(velocities[k + n_atoms*j], velocities[k])\n",
    "        dsf[i, j] /= (n_atoms * n_steps)\n",
    "\n",
    "# Plot the dynamic structure factor\n",
    "plt.imshow(np.log10(np.abs(dsf)), origin='lower', extent=[omega_values.min(), omega_values.max(), q_values.min(), q_values.max()], aspect='auto')\n",
    "plt.colorbar()\n",
    "plt.xlabel('omega')\n",
    "plt.ylabel('q')\n",
    "plt.show()\n"
   ]
  }
 ],
 "metadata": {
  "kernelspec": {
   "display_name": "Python 3 (ipykernel)",
   "language": "python",
   "name": "python3"
  },
  "language_info": {
   "codemirror_mode": {
    "name": "ipython",
    "version": 3
   },
   "file_extension": ".py",
   "mimetype": "text/x-python",
   "name": "python",
   "nbconvert_exporter": "python",
   "pygments_lexer": "ipython3",
   "version": "3.9.5"
  }
 },
 "nbformat": 4,
 "nbformat_minor": 5
}

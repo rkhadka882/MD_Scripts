{
 "cells": [
  {
   "cell_type": "code",
   "execution_count": 1,
   "id": "9a4f7be9",
   "metadata": {},
   "outputs": [],
   "source": [
    "import numpy as np\n",
    "from scipy.fftpack import fft, fftfreq"
   ]
  },
  {
   "cell_type": "code",
   "execution_count": 2,
   "id": "5b5e1baf",
   "metadata": {},
   "outputs": [],
   "source": [
    "# Load LAMMPS dump file\n",
    "with open(\"dump_5frame.lmc\", \"r\") as f:\n",
    "    lines = f.readlines()"
   ]
  },
  {
   "cell_type": "code",
   "execution_count": 3,
   "id": "e937fab2",
   "metadata": {},
   "outputs": [
    {
     "name": "stdout",
     "output_type": "stream",
     "text": [
      "40320\n"
     ]
    }
   ],
   "source": [
    "# Extract number of atoms and box dimensions from LAMMPS dump header\n",
    "N = int(lines[3]); print(N)\n",
    "Lx = float(lines[5].split()[1])\n",
    "Ly = float(lines[6].split()[1])\n",
    "Lz = float(lines[7].split()[1])"
   ]
  },
  {
   "cell_type": "code",
   "execution_count": 4,
   "id": "a35a14b5",
   "metadata": {},
   "outputs": [],
   "source": [
    "# Define wave vector components\n",
    "Nx, Ny, Nz = 32, 32, 32\n",
    "qx = 2*np.pi*np.fft.fftfreq(Nx, d=Lx/Nx)\n",
    "qy = 2*np.pi*np.fft.fftfreq(Ny, d=Ly/Ny)\n",
    "qz = 2*np.pi*np.fft.fftfreq(Nz, d=Lz/Nz)"
   ]
  },
  {
   "cell_type": "code",
   "execution_count": 5,
   "id": "c3eb93c8",
   "metadata": {},
   "outputs": [
    {
     "data": {
      "text/plain": [
       "(32, 32, 32)"
      ]
     },
     "execution_count": 5,
     "metadata": {},
     "output_type": "execute_result"
    }
   ],
   "source": [
    "# Initialize velocity autocorrelation function and density of states arrays\n",
    "C = np.zeros((Nx, Ny, Nz), dtype=complex)\n",
    "D = np.zeros((Nx, Ny, Nz))\n",
    "C.shape"
   ]
  },
  {
   "cell_type": "code",
   "execution_count": null,
   "id": "08b1a2d9",
   "metadata": {},
   "outputs": [],
   "source": [
    "# Loop over time steps in LAMMPS dump file\n",
    "for i in range(len(lines)):\n",
    "    line = lines[i].split()\n",
    "#     print(len(line))\n",
    "\n",
    "    # Check if line is a time step header\n",
    "    if len(line) == 13 and line[1] == \"ATOMS\":\n",
    "        # Extract atomic velocities from next N lines\n",
    "        vel = []\n",
    "        for j in range(N):\n",
    "            line = lines[i+j+1].split(); \n",
    "            vel.append([float(line[5]), float(line[6]), float(line[7])])\n",
    "#             print([float(line[5]), float(line[6]), float(line[7])])\n",
    "        \n",
    "        # Compute velocity autocorrelation function\n",
    "        vel_fft = fft(vel, axis=0)\n",
    "        for j in range(3):\n",
    "            vel_fft_j = vel_fft[:,j]\n",
    "            C += np.outer(vel_fft_j, np.conj(vel_fft_j))"
   ]
  },
  {
   "cell_type": "code",
   "execution_count": 1,
   "id": "b8f638e4",
   "metadata": {},
   "outputs": [
    {
     "ename": "NameError",
     "evalue": "name 'C' is not defined",
     "output_type": "error",
     "traceback": [
      "\u001b[0;31m---------------------------------------------------------------------------\u001b[0m",
      "\u001b[0;31mNameError\u001b[0m                                 Traceback (most recent call last)",
      "Input \u001b[0;32mIn [1]\u001b[0m, in \u001b[0;36m<cell line: 1>\u001b[0;34m()\u001b[0m\n\u001b[0;32m----> 1\u001b[0m \u001b[43mC\u001b[49m\n",
      "\u001b[0;31mNameError\u001b[0m: name 'C' is not defined"
     ]
    }
   ],
   "source": [
    "C"
   ]
  },
  {
   "cell_type": "code",
   "execution_count": 98,
   "id": "2d56f6df",
   "metadata": {},
   "outputs": [
    {
     "data": {
      "text/plain": [
       "2"
      ]
     },
     "execution_count": 98,
     "metadata": {},
     "output_type": "execute_result"
    }
   ],
   "source": [
    "line = lines[5].split()\n",
    "len(line)"
   ]
  },
  {
   "cell_type": "code",
   "execution_count": null,
   "id": "a3154f69",
   "metadata": {},
   "outputs": [],
   "source": []
  },
  {
   "cell_type": "code",
   "execution_count": null,
   "id": "d25ca6d6",
   "metadata": {},
   "outputs": [],
   "source": []
  },
  {
   "cell_type": "code",
   "execution_count": null,
   "id": "ed45450b",
   "metadata": {},
   "outputs": [],
   "source": []
  },
  {
   "cell_type": "code",
   "execution_count": null,
   "id": "ee31f000",
   "metadata": {},
   "outputs": [],
   "source": []
  },
  {
   "cell_type": "code",
   "execution_count": 52,
   "id": "f106d769",
   "metadata": {},
   "outputs": [],
   "source": [
    "import numpy as np\n",
    "import matplotlib.pyplot as plt\n",
    "\n",
    "# Load the LAMMPS dump file\n",
    "data = np.loadtxt(\"frame-1.lmc\", skiprows=9)"
   ]
  },
  {
   "cell_type": "code",
   "execution_count": 54,
   "id": "5bb76c4d",
   "metadata": {},
   "outputs": [],
   "source": [
    "# Extract the atomic positions and velocities\n",
    "positions = data[:, 2:5]\n",
    "velocities = data[:, 5:8]"
   ]
  },
  {
   "cell_type": "code",
   "execution_count": 63,
   "id": "88881456",
   "metadata": {},
   "outputs": [],
   "source": [
    "# Define the simulation box size and shape\n",
    "Lx, Ly, Lz = 52.0664, 50.0763, 300.229\n",
    "alpha, beta, gamma = 90.0, 90.0, 90.0"
   ]
  },
  {
   "cell_type": "code",
   "execution_count": 64,
   "id": "0c0989b9",
   "metadata": {},
   "outputs": [
    {
     "ename": "MemoryError",
     "evalue": "Unable to allocate 477. TiB for an array with shape (40320, 40320, 40320) and data type float64",
     "output_type": "error",
     "traceback": [
      "\u001b[0;31m---------------------------------------------------------------------------\u001b[0m",
      "\u001b[0;31mMemoryError\u001b[0m                               Traceback (most recent call last)",
      "Input \u001b[0;32mIn [64]\u001b[0m, in \u001b[0;36m<cell line: 6>\u001b[0;34m()\u001b[0m\n\u001b[1;32m      4\u001b[0m qy \u001b[38;5;241m=\u001b[39m np\u001b[38;5;241m.\u001b[39mfft\u001b[38;5;241m.\u001b[39mfftfreq(N, d\u001b[38;5;241m=\u001b[39mLy\u001b[38;5;241m/\u001b[39mN)\n\u001b[1;32m      5\u001b[0m qz \u001b[38;5;241m=\u001b[39m np\u001b[38;5;241m.\u001b[39mfft\u001b[38;5;241m.\u001b[39mfftfreq(N, d\u001b[38;5;241m=\u001b[39mLz\u001b[38;5;241m/\u001b[39mN)\n\u001b[0;32m----> 6\u001b[0m qx, qy, qz \u001b[38;5;241m=\u001b[39m \u001b[43mnp\u001b[49m\u001b[38;5;241;43m.\u001b[39;49m\u001b[43mmeshgrid\u001b[49m\u001b[43m(\u001b[49m\u001b[43mqx\u001b[49m\u001b[43m,\u001b[49m\u001b[43m \u001b[49m\u001b[43mqy\u001b[49m\u001b[43m,\u001b[49m\u001b[43m \u001b[49m\u001b[43mqz\u001b[49m\u001b[43m,\u001b[49m\u001b[43m \u001b[49m\u001b[43mindexing\u001b[49m\u001b[38;5;241;43m=\u001b[39;49m\u001b[38;5;124;43m'\u001b[39;49m\u001b[38;5;124;43mij\u001b[39;49m\u001b[38;5;124;43m'\u001b[39;49m\u001b[43m)\u001b[49m\n",
      "File \u001b[0;32m<__array_function__ internals>:180\u001b[0m, in \u001b[0;36mmeshgrid\u001b[0;34m(*args, **kwargs)\u001b[0m\n",
      "File \u001b[0;32m~/miniconda3/lib/python3.9/site-packages/numpy/lib/function_base.py:4949\u001b[0m, in \u001b[0;36mmeshgrid\u001b[0;34m(copy, sparse, indexing, *xi)\u001b[0m\n\u001b[1;32m   4946\u001b[0m     output \u001b[38;5;241m=\u001b[39m np\u001b[38;5;241m.\u001b[39mbroadcast_arrays(\u001b[38;5;241m*\u001b[39moutput, subok\u001b[38;5;241m=\u001b[39m\u001b[38;5;28;01mTrue\u001b[39;00m)\n\u001b[1;32m   4948\u001b[0m \u001b[38;5;28;01mif\u001b[39;00m copy:\n\u001b[0;32m-> 4949\u001b[0m     output \u001b[38;5;241m=\u001b[39m [x\u001b[38;5;241m.\u001b[39mcopy() \u001b[38;5;28;01mfor\u001b[39;00m x \u001b[38;5;129;01min\u001b[39;00m output]\n\u001b[1;32m   4951\u001b[0m \u001b[38;5;28;01mreturn\u001b[39;00m output\n",
      "File \u001b[0;32m~/miniconda3/lib/python3.9/site-packages/numpy/lib/function_base.py:4949\u001b[0m, in \u001b[0;36m<listcomp>\u001b[0;34m(.0)\u001b[0m\n\u001b[1;32m   4946\u001b[0m     output \u001b[38;5;241m=\u001b[39m np\u001b[38;5;241m.\u001b[39mbroadcast_arrays(\u001b[38;5;241m*\u001b[39moutput, subok\u001b[38;5;241m=\u001b[39m\u001b[38;5;28;01mTrue\u001b[39;00m)\n\u001b[1;32m   4948\u001b[0m \u001b[38;5;28;01mif\u001b[39;00m copy:\n\u001b[0;32m-> 4949\u001b[0m     output \u001b[38;5;241m=\u001b[39m [\u001b[43mx\u001b[49m\u001b[38;5;241;43m.\u001b[39;49m\u001b[43mcopy\u001b[49m\u001b[43m(\u001b[49m\u001b[43m)\u001b[49m \u001b[38;5;28;01mfor\u001b[39;00m x \u001b[38;5;129;01min\u001b[39;00m output]\n\u001b[1;32m   4951\u001b[0m \u001b[38;5;28;01mreturn\u001b[39;00m output\n",
      "\u001b[0;31mMemoryError\u001b[0m: Unable to allocate 477. TiB for an array with shape (40320, 40320, 40320) and data type float64"
     ]
    }
   ],
   "source": [
    "# Compute the wave vectors\n",
    "N = len(positions)\n",
    "qx = np.fft.fftfreq(N, d=Lx/N)\n",
    "qy = np.fft.fftfreq(N, d=Ly/N)\n",
    "qz = np.fft.fftfreq(N, d=Lz/N)\n",
    "qx, qy, qz = np.meshgrid(qx, qy, qz, indexing='ij')"
   ]
  },
  {
   "cell_type": "code",
   "execution_count": null,
   "id": "0cd87aa4",
   "metadata": {},
   "outputs": [],
   "source": []
  }
 ],
 "metadata": {
  "kernelspec": {
   "display_name": "Python 3 (ipykernel)",
   "language": "python",
   "name": "python3"
  },
  "language_info": {
   "codemirror_mode": {
    "name": "ipython",
    "version": 3
   },
   "file_extension": ".py",
   "mimetype": "text/x-python",
   "name": "python",
   "nbconvert_exporter": "python",
   "pygments_lexer": "ipython3",
   "version": "3.9.5"
  }
 },
 "nbformat": 4,
 "nbformat_minor": 5
}

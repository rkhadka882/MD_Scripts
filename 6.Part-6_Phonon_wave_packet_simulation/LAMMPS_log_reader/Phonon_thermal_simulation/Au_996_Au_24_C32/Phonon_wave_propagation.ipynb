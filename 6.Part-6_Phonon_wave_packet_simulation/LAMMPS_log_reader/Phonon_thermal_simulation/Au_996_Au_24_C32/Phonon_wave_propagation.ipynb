{
 "cells": [
  {
   "cell_type": "code",
   "execution_count": 1,
   "id": "783aa383",
   "metadata": {},
   "outputs": [],
   "source": [
    "# Note: Make sure your dump file has sorted atom id\n",
    "# make sure the z-position is in the 4th location"
   ]
  },
  {
   "cell_type": "code",
   "execution_count": 2,
   "id": "c9ee379f",
   "metadata": {},
   "outputs": [],
   "source": [
    "import numpy as np\n",
    "import sys\n",
    "import os\n",
    "import seaborn as sns\n",
    "import matplotlib.pyplot as plt\n",
    "import cmath"
   ]
  },
  {
   "cell_type": "code",
   "execution_count": 3,
   "id": "78cf907f",
   "metadata": {},
   "outputs": [
    {
     "data": {
      "image/png": "[encoded data removed]",
      "text/plain": [
       "<Figure size 432x288 with 1 Axes>"
      ]
     },
     "metadata": {
      "needs_background": "light"
     },
     "output_type": "display_data"
    }
   ],
   "source": [
    "# Reading the phonon dispersion data:\n",
    "filename = 'Au_morse.disp'\n",
    "with open(filename, 'r') as file:\n",
    "    lines = file.readlines()\n",
    "\n",
    "data = [line.split() for line in lines if not line.startswith('#')]\n",
    "\n",
    "data = np.array(data)\n",
    "data = data.astype(np.float64)\n",
    "cm_2_THz = 29979245800/1e12\n",
    "TAx = data[0::3][:, 1]*cm_2_THz  # in (cm-1)\n",
    "TAy = data[1::3][:, 1]*cm_2_THz  # in (cm-1)\n",
    "LA = data[2::3][:, 1]*cm_2_THz   # in (cm-1)\n",
    "k_val = (data[0::3][:, 0] - 1)/100\n",
    "\n",
    "plt.plot(k_val, TAx, 'o-r', label='TAx mode')\n",
    "plt.plot(k_val, TAy, 'o-', label='TAy mode')\n",
    "plt.plot(k_val, LA, 'o-b', label='LA mode')\n",
    "plt.xlabel('k values [$\\pi$/a]')\n",
    "plt.ylabel('Frequency [THz]')\n",
    "plt.title('Phonon dispersion relation of Au, (000) to (111) ')\n",
    "plt.legend()\n",
    "plt.show()"
   ]
  },
  {
   "cell_type": "code",
   "execution_count": 4,
   "id": "1437feb8",
   "metadata": {},
   "outputs": [
    {
     "name": "stdout",
     "output_type": "stream",
     "text": [
      "Au_111_18x10x332_Au_24_C32_6x5_A002_k2_vel.lmp\n",
      "Au_111_18x10x332_Au_24_C32_6x5_A002_k4_novel.lmp\n",
      "Au_111_orig_z.dat\n",
      "Au_MNL_relax_105547_A02_k4_randvel.lmp\n",
      "Au_MNL_relax_105547_A1_k4_randvel.lmp\n",
      "Au_MNL_relax_105547_A1_k4_zerovel.lmp\n",
      "Au_MNL_relax_105547_k4_novel.lmp\n",
      "Au_MNL_relax_105547_k4_randvel.lmp\n",
      "Au_MNL_relax_366420_k4_novel.lmp\n",
      "Au_MNL_relax_368656_A02_k05_vel.lmp\n",
      "Au_MNL_relax_368656_A02_k06_vel.lmp\n",
      "Au_MNL_relax_368656_A02_k1_randvel.lmp\n",
      "Au_MNL_relax_368656_A02_k1_vel.lmp\n",
      "Au_MNL_relax_368656_A02_k4_randvel.lmp\n",
      "Au_morse.disp\n",
      "data_cg_boxrelax2.Au_MNL_relax_105547.lmp\n",
      "data_cg_boxrelax.Au_MNL_relax_355147.lmp\n",
      "data_cg_boxrelax.Au_MNL_relax_363117\n",
      "data_cg_boxrelax.Au_MNL_relax_366420.lmp\n",
      "data_fire.Au_MNL_relax_368656.lmp\n",
      "Disp_plot.ipynb\n",
      "dumps-1_NVE.lmc\n",
      "Phonon_wave_propagation.ipynb\n",
      "Phonon_wave_t0.ipynb\n",
      "Phonon_wave_t0_velcorr.ipynb\n",
      "Wave-packet_disp5ps.png\n",
      "Wave-packet_vel5ps.png\n",
      "z_disp_vel.dat\n"
     ]
    },
    {
     "data": {
      "text/plain": [
       "0"
      ]
     },
     "execution_count": 4,
     "metadata": {},
     "output_type": "execute_result"
    }
   ],
   "source": [
    "os.system('ls')"
   ]
  },
  {
   "cell_type": "code",
   "execution_count": 5,
   "id": "dd9479bc",
   "metadata": {},
   "outputs": [],
   "source": [
    "# Input variables:\n",
    "\n",
    "# Structural variable:\n",
    "relaxed_str = \"data_fire.Au_MNL_relax_368656.lmp\"\n",
    "dump_file = \"dumps-1_NVE.lmc\"\n",
    "dump_z_pos = 4    # x = 2, y=3, z= 4 for LAMMPs produced\n",
    "\n",
    "Lz = 2528.84      # Length of box in Z-direction in Angstrom, required to correct PBC\n",
    "N_atoms = 384000  # Number of atoms\n",
    "N_layeratom = 360 # Number of atoms in each Au(111) layer N_atoms/N_layer\n",
    "offset_p = 38     #19\n",
    "add_Au = 996      # Added Au layers\n",
    "orig_Au = 24      # Existing Au layers\n",
    "N_plane = add_Au+orig_Au\n",
    "\n",
    "# Phonon variables:\n",
    "a0 = 4.079016               # lattice parameter of Au, a = 4.0782(lit), 4.07901835(calc)\n",
    "A = 0.02                   # Amplitude of the wave in angstrom, 2e-3\n",
    "eps_k0 = 1                  # e(k0) = Polarization wave vector, why 1?\n",
    "val = 5                     # 5=0.05, 10 = 0.1, 20 =0.2, 30 = 0.3, 40 = 0.4 \n",
    "# a = a0                    # Case-1     \n",
    "# a = a0*np.sqrt(3)         # Case-2\n",
    "a = a0/np.sqrt(3)           # Case-3\n",
    "gamma = 50*a0               # Spatial extent"
   ]
  },
  {
   "cell_type": "code",
   "execution_count": 6,
   "id": "9a975480",
   "metadata": {},
   "outputs": [
    {
     "name": "stdout",
     "output_type": "stream",
     "text": [
      "Total lines: 791090\n",
      "Shape of position: (384000, 10)\n",
      "Shape of velocity: (384000, 4)\n"
     ]
    }
   ],
   "source": [
    "# Now take the original structure after Energy minimization and instill the phonon wave-packet\n",
    "with open(relaxed_str, \"r\") as file:   # jid=253256\n",
    "    lines = file.readlines()\n",
    "    total_lines = len(lines)\n",
    "    print('Total lines:', total_lines)\n",
    "\n",
    "# Read position data:\n",
    "plines = lines[offset_p:(N_atoms+offset_p)]\n",
    "# Extract data from line 38 to 384038\n",
    "position = np.array([list(map(float, line.strip().split())) for line in plines])\n",
    "print(\"Shape of position:\", position.shape)\n",
    "\n",
    "# Sorting the Z-position according to atom id:\n",
    "sorted_index = np.argsort(position[:, 0])\n",
    "Original_position = position[sorted_index]      # col 4 = x, col 5 = y, col 6 = z\n",
    "\n",
    "\n",
    "# Read velocity data:\n",
    "offset_v = N_atoms+offset_p + 3\n",
    "vlines = lines[offset_v:(N_atoms+offset_v)]\n",
    "# Extract data from line 19 to 358579\n",
    "velocity = np.array([list(map(float, line.strip().split())) for line in vlines])\n",
    "print(\"Shape of velocity:\", velocity.shape)\n"
   ]
  },
  {
   "cell_type": "code",
   "execution_count": 7,
   "id": "0949ad3f",
   "metadata": {},
   "outputs": [
    {
     "name": "stdout",
     "output_type": "stream",
     "text": [
      "Top layer of Au: 2400.59590689795\n"
     ]
    }
   ],
   "source": [
    "dplane = a0/np.sqrt(3)                  # Distance between Au(111) planes\n",
    "Au_bottom = np.min(position[:, 6])      # Bottom layer of Au     \n",
    "Au_top = Au_bottom + dplane*N_plane - 1 # Top layer of Au\n",
    "print('Top layer of Au:', Au_top)\n",
    "# Selecting position within Au_bottom and Au_top:\n",
    "Au_111_layers = position[position[:, 6] < Au_top]\n",
    "MNL_layers = position[position[:, 6] > Au_top]"
   ]
  },
  {
   "cell_type": "code",
   "execution_count": 8,
   "id": "e393f886",
   "metadata": {},
   "outputs": [],
   "source": [
    "# initialize the new array\n",
    "Au_layers = np.zeros((N_plane, 1)) # Creating empty array\n",
    "\n",
    "# loop over the number of averages\n",
    "for i in range(N_plane):\n",
    "    start = i * N_layeratom\n",
    "    end = (i + 1) * N_layeratom\n",
    "    \n",
    "    # calculate the average of every 360 rows\n",
    "    avg = np.mean(Au_111_layers[start:end, 6], axis=0)\n",
    "    \n",
    "    # store the average in the new array\n",
    "    Au_layers[i, 0] = avg\n",
    "\n",
    "Au_layers = Au_layers.reshape(-1)  \n",
    "\n",
    "# Computing the displacements\n",
    "xn = Au_layers                             # All positions\n"
   ]
  },
  {
   "cell_type": "code",
   "execution_count": 9,
   "id": "74274cde",
   "metadata": {},
   "outputs": [
    {
     "name": "stdout",
     "output_type": "stream",
     "text": [
      "8064189\n"
     ]
    }
   ],
   "source": [
    "with open(dump_file, \"r\") as file:\n",
    "    lines = file.readlines()\n",
    "    print(len(lines))"
   ]
  },
  {
   "cell_type": "code",
   "execution_count": 10,
   "id": "732f675e",
   "metadata": {},
   "outputs": [],
   "source": [
    "Total_lines = len(lines)                    # Total no. of lines\n",
    "Total_frames = Total_lines//(N_atoms + 9)    # Count all the frames"
   ]
  },
  {
   "cell_type": "code",
   "execution_count": 11,
   "id": "8c756881",
   "metadata": {},
   "outputs": [],
   "source": [
    "Z_pos = np.zeros((N_atoms, Total_frames)) # 358560 X 14(frames)\n",
    "vel_mag = np.zeros((N_atoms, Total_frames)) \n",
    "offset_p = 9\n",
    "\n",
    "for i in np.arange(Total_frames):\n",
    "    # Read position data:\n",
    "    a = int(N_atoms*i + offset_p*(i+1))\n",
    "    b = int((N_atoms + offset_p)*(i+1))\n",
    "    plines = lines[a:b]\n",
    "\n",
    "    dump_pos = np.array([list(map(float, line.strip().split())) for line in plines])\n",
    "#     print(\"Shape of position:\", dump_pos.shape)\n",
    "    Z_pos[:, i] = dump_pos[:, dump_z_pos]\n",
    "    \n",
    "#     vel_mag[:, i] = np.sqrt(dump_pos[:, 5]**2 + dump_pos[:, 6]**2+ dump_pos[:, 7]**2)\n",
    "    vel_mag[:, i] = dump_pos[:, 7]\n",
    "    \n",
    "# Z_pos has data in following way\n",
    "# data saved every 15000 steps, dt=0.0005 ps, so frames every 7.5 ps\n",
    "# t=0, t=7.5 ps, t=15 ps ...\n",
    "# these Z-positions are ordered according to atom id"
   ]
  },
  {
   "cell_type": "code",
   "execution_count": 12,
   "id": "b69bc0f5",
   "metadata": {},
   "outputs": [],
   "source": [
    "# Calculating the difference between new atomic position and Original Z-position\n",
    "diff = Z_pos - Original_position[:, 6][:, None] @ np.ones(Total_frames)[None, :]"
   ]
  },
  {
   "cell_type": "code",
   "execution_count": 13,
   "id": "a71629bd",
   "metadata": {},
   "outputs": [],
   "source": [
    "# This array have data in following order\n",
    "# atom id (arranged) [Z-position Differences a/c to atom id]  \n",
    "new_arr = np.hstack((Original_position[:, 0][:, None], Original_position[:, 6][:, None], diff))\n",
    "\n",
    "# Now lets sort this array according to 2nd column, i.e, the Z-position\n",
    "sort_index = np.argsort(new_arr[:, 1])\n",
    "new_arr = new_arr[sort_index]        # col 1 = atom id, col 2 = sorted Z-position, col 3: = Z-pos diff\n",
    "\n",
    "#Creating vel_arr to sort as Z-position:\n",
    "vel_arr = np.hstack((Original_position[:, 0][:, None], Original_position[:, 6][:, None], vel_mag))\n",
    "sort_index = np.argsort(vel_arr[:, 1])\n",
    "vel_arr = vel_arr[sort_index]"
   ]
  },
  {
   "cell_type": "code",
   "execution_count": 14,
   "id": "22cbe0fe",
   "metadata": {},
   "outputs": [],
   "source": [
    "# Fixing the issue due periodic boundary condition:\n",
    "# This issue arises when atoms at the boundary move during the simulation\n",
    "# So, the total box-length should be added or subtracted based on atom position\n",
    "# new_arr[:, 2:] = np.where(new_arr[:, 2:] < -100,  Lz + new_arr[:, 2:], new_arr[:, 2:])\n",
    "# new_arr[:, 2:] = np.where(new_arr[:, 2:] >  100,  Lz - new_arr[:, 2:], new_arr[:, 2:])"
   ]
  },
  {
   "cell_type": "code",
   "execution_count": 15,
   "id": "df75b412",
   "metadata": {},
   "outputs": [],
   "source": [
    "# new_arr contains atomid Z-pos diff, this with increasing Z-pos\n",
    "Au_111_diff = new_arr[0:Au_111_layers.shape[0], :]\n",
    "MNL_layer_diff = new_arr[Au_111_layers.shape[0]:, 2:]"
   ]
  },
  {
   "cell_type": "code",
   "execution_count": 16,
   "id": "37d13107",
   "metadata": {},
   "outputs": [],
   "source": [
    "# Now lets average the atoms in each layers\n",
    "\n",
    "# initialize the new array\n",
    "phonon_wave = np.zeros((N_plane, Total_frames)) # Creating empty array\n",
    "vel_wave = np.zeros((N_plane, Total_frames))\n",
    "\n",
    "# loop over the number of averages\n",
    "for i in range(N_plane):\n",
    "    start = i * N_layeratom\n",
    "    end = (i + 1) * N_layeratom\n",
    "    \n",
    "    # calculate the average of every 360 rows for position\n",
    "    avg = np.mean(Au_111_diff[:, 2:][start:end, :], axis=0)\n",
    "    vel_avg = np.mean(vel_arr[:, 2:][start:end, :], axis=0)\n",
    "    \n",
    "    # store the average in the new array\n",
    "    phonon_wave[i, :] = avg          # purely contains differences in displacement only.\n",
    "    vel_wave[i, :] = vel_avg"
   ]
  },
  {
   "cell_type": "code",
   "execution_count": 17,
   "id": "888daad5",
   "metadata": {},
   "outputs": [],
   "source": [
    "# np.savetxt(\"PW_simulation_347370.dat\", phonon_wave)\n",
    "# np.savetxt(\"Z-positions.dat\", xn)"
   ]
  },
  {
   "cell_type": "code",
   "execution_count": 19,
   "id": "1f1fad4d",
   "metadata": {},
   "outputs": [
    {
     "name": "stdout",
     "output_type": "stream",
     "text": [
      "(1020, 21)\n"
     ]
    },
    {
     "data": {
      "image/png": "[encoded data removed]",
      "text/plain": [
       "<Figure size 432x288 with 1 Axes>"
      ]
     },
     "metadata": {
      "needs_background": "light"
     },
     "output_type": "display_data"
    },
    {
     "data": {
      "image/png": "[encoded data removed]",
      "text/plain": [
       "<Figure size 432x288 with 1 Axes>"
      ]
     },
     "metadata": {
      "needs_background": "light"
     },
     "output_type": "display_data"
    }
   ],
   "source": [
    "print(phonon_wave.shape)\n",
    "frame=20\n",
    "label_value = f'{frame} ps'\n",
    "fig_disp = f'Wave-packet_disp{frame}ps.png'\n",
    "fig_vel = f'Wave-packet_vel{frame}ps.png'\n",
    "\n",
    "# Plot the position\n",
    "plt.plot(xn, phonon_wave[:, 0], '-', linewidth=1,label='0 ps')\n",
    "plt.plot(xn, phonon_wave[:, frame], '-', linewidth=1, label=label_value)\n",
    "plt.xlabel(\"Z-axis coordinate [A]\")\n",
    "plt.ylabel(\"Displacement [A]\")\n",
    "# plt.xlim(500, 550)\n",
    "# plt.ylim(-0.003, 0.003)\n",
    "plt.legend()\n",
    "plt.savefig(fig_disp, dpi= 200, bbox_inches = 'tight', facecolor=\"w\")\n",
    "plt.show()\n",
    "\n",
    "\n",
    "# Plot the velocity\n",
    "plt.plot(xn, vel_wave[:, 0], '-', linewidth=1,label='0 ps')\n",
    "plt.plot(xn, vel_wave[:, frame], '-', linewidth=1, label=label_value)\n",
    "plt.xlabel(\"Z-axis coordinate [A]\")\n",
    "plt.ylabel(\"Vz [A/ps]\")\n",
    "plt.legend()\n",
    "plt.savefig(fig_vel, dpi= 200, bbox_inches = 'tight', facecolor=\"w\")\n",
    "plt.show()"
   ]
  },
  {
   "cell_type": "code",
   "execution_count": null,
   "id": "f890a83b",
   "metadata": {},
   "outputs": [],
   "source": []
  }
 ],
 "metadata": {
  "kernelspec": {
   "display_name": "Python 3 (ipykernel)",
   "language": "python",
   "name": "python3"
  },
  "language_info": {
   "codemirror_mode": {
    "name": "ipython",
    "version": 3
   },
   "file_extension": ".py",
   "mimetype": "text/x-python",
   "name": "python",
   "nbconvert_exporter": "python",
   "pygments_lexer": "ipython3",
   "version": "3.9.5"
  }
 },
 "nbformat": 4,
 "nbformat_minor": 5
}

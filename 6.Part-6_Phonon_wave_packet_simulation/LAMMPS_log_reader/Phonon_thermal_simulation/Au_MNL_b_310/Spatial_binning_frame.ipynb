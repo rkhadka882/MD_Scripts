{
 "cells": [
  {
   "cell_type": "code",
   "execution_count": 1,
   "id": "a5cc85ac",
   "metadata": {},
   "outputs": [],
   "source": [
    "# Here we are trying to calcualte the spatial energy per frame"
   ]
  },
  {
   "cell_type": "code",
   "execution_count": 2,
   "id": "ea033146",
   "metadata": {},
   "outputs": [],
   "source": [
    "import numpy as np\n",
    "import sys\n",
    "import os\n",
    "import seaborn as sns\n",
    "import matplotlib.pyplot as plt\n",
    "import cmath"
   ]
  },
  {
   "cell_type": "code",
   "execution_count": 3,
   "id": "ecdf00ed",
   "metadata": {},
   "outputs": [],
   "source": [
    "# Definitions:\n",
    "\n",
    "def bin_averages(bins, array):\n",
    "    \"\"\"bins = contains number of lines to average in each bin, dump_bin\n",
    "       array = contains TE, KE, PE array with each column representing frames\"\"\"\n",
    "    start_idx = 0\n",
    "    arr_avg = []\n",
    "    for interval in bins:\n",
    "        end_idx = start_idx + interval\n",
    "        subset = array[start_idx:end_idx]\n",
    "        avg = np.mean(subset, axis=0)\n",
    "        arr_avg.append(avg)\n",
    "        start_idx = end_idx\n",
    "    return np.array(arr_avg)"
   ]
  },
  {
   "cell_type": "code",
   "execution_count": 4,
   "id": "239685ea",
   "metadata": {},
   "outputs": [],
   "source": [
    "# Input variables:\n",
    "Total_frames = 41                      # No. of KE.*.txt files\n",
    "start_index = 1                       # for KE_1.txt, 1, for KE_0.txt, 0\n",
    "skip_frame = 3                        # No. of columns to skip at the end while plotting\n",
    "\n",
    "N_bins = 50                         # use 200, number of bins to be used\n",
    "ene_avg_freq = 3                     # Averaging this many frames\n",
    "relaxid = \"388586\"\n",
    "dump_ref_ene = \"baseline_energy_388586.lmc\" # Contains information of baseline energy/atom\n",
    "\n",
    "N_atoms = 681120         # Number of atoms\n",
    "N_layeratom = 360        # Number of atoms in each Au(111) layer N_atoms/N_layer\n",
    "offset_p = 38            # Lines to skip in data file"
   ]
  },
  {
   "cell_type": "code",
   "execution_count": 5,
   "id": "a4852498",
   "metadata": {},
   "outputs": [],
   "source": [
    "# Reading the baseline_energy dump file:\n",
    "with open(dump_ref_ene, \"r\") as file:\n",
    "    elines = file.readlines()\n",
    "    eline = elines[11:]\n",
    "\n",
    "    dump_ref = np.array([list(map(float, line.strip().split())) for line in eline])\n",
    "    sorted_index = np.argsort(dump_ref[:, -4])   # Z_position    \n",
    "    dump_ref = dump_ref[sorted_index]            # All the dump values sorted a/c to Z-position\n",
    "#     print(\"Shape of position:\", dump_pos.shape)\n",
    "    Z_pos_ref = dump_ref[:, -4]\n",
    "    \n",
    "# Extracting energies, sorted a/c to Z-position, low Z to high Z\n",
    "    TE_ref = dump_ref[:, -1]\n",
    "    KE_ref = dump_ref[:, -2]\n",
    "    PE_ref = dump_ref[:, -3]"
   ]
  },
  {
   "cell_type": "code",
   "execution_count": 6,
   "id": "05612f96",
   "metadata": {},
   "outputs": [
    {
     "name": "stdout",
     "output_type": "stream",
     "text": [
      "Reading frame 1\n",
      "Reading frame 2\n",
      "Reading frame 3\n",
      "Reading frame 4\n",
      "Reading frame 5\n",
      "Reading frame 6\n",
      "Reading frame 7\n",
      "Reading frame 8\n",
      "Reading frame 9\n",
      "Reading frame 10\n",
      "Reading frame 11\n",
      "Reading frame 12\n",
      "Reading frame 13\n",
      "Reading frame 14\n",
      "Reading frame 15\n",
      "Reading frame 16\n",
      "Reading frame 17\n",
      "Reading frame 18\n",
      "Reading frame 19\n",
      "Reading frame 20\n",
      "Reading frame 21\n",
      "Reading frame 22\n",
      "Reading frame 23\n",
      "Reading frame 24\n",
      "Reading frame 25\n",
      "Reading frame 26\n",
      "Reading frame 27\n",
      "Reading frame 28\n",
      "Reading frame 29\n",
      "Reading frame 30\n",
      "Reading frame 31\n",
      "Reading frame 32\n",
      "Reading frame 33\n",
      "Reading frame 34\n",
      "Reading frame 35\n",
      "Reading frame 36\n",
      "Reading frame 37\n",
      "Reading frame 38\n",
      "Reading frame 39\n",
      "Reading frame 40\n",
      "Reading frame 41\n"
     ]
    }
   ],
   "source": [
    "# Reading the values:\n",
    "# create an empty list to store all kinetic energy values\n",
    "KE_allframe = np.zeros((N_bins, Total_frames)) # 100 X 14(frames)\n",
    "\n",
    "# loop through all the files\n",
    "for i in range(0, Total_frames):\n",
    "    # read the file\n",
    "    with open(f'KE.{i+start_index}.txt') as f:\n",
    "        print(f'Reading frame {i+start_index}')\n",
    "        # skip the first two lines\n",
    "        next(f)\n",
    "        next(f)\n",
    "        \n",
    "        # read the remaining lines and extract the kinetic energy values\n",
    "        KE = [list(map(float, line.strip().split())) for line in f] \n",
    "        KE = np.array(KE)\n",
    "        \n",
    "        # sort the kinetic energy values based on z-position\n",
    "        KE_sorted = KE[np.argsort(KE[:, 0])]\n",
    "        \n",
    "        Z_pos = KE_sorted[:, 0]  # All the Z_position\n",
    "\n",
    "        zlo = np.min(KE_sorted[:, 0])\n",
    "        zhi = np.max(KE_sorted[:, 0])\n",
    "\n",
    "        bin_width = (zhi-zlo)/N_bins         # in Angstrom\n",
    "#         print(\"Number of bins:\", N_bins, \"Bin width:\", bin_width, \"A\")\n",
    "\n",
    "        bins = np.array([(zlo+i*bin_width) for i in range(N_bins)]);\n",
    "        # print(\"First 3 bins:\\n\",[(bins[i], bins[i+1]) for i in range(len(bins)-1)][0:5])\n",
    "\n",
    "        binned_data = {}                       # Dictionary\n",
    "        for z in Z_pos:\n",
    "            if z < zlo or z >= zhi:\n",
    "                continue\n",
    "            bin_num = (z - zlo) // bin_width;  # Calculates the bin numbers\n",
    "            if bin_num in binned_data:\n",
    "                binned_data[bin_num].append(z) # use the bin number and collect the z values\n",
    "            else:\n",
    "                binned_data[bin_num] = [z]   \n",
    "\n",
    "        dump_bin = np.array([len(binned_data[i]) for i \n",
    "                             in range(len(binned_data))]) # calculates no. of lines to average\n",
    "\n",
    "        # Averaging the reference energies:\n",
    "        KE_avg_ref = bin_averages(dump_bin, KE_ref)\n",
    "        PE_avg_ref = bin_averages(dump_bin, PE_ref)\n",
    "        TE_avg_ref = bin_averages(dump_bin, TE_ref)\n",
    "\n",
    "        # Now lets average the energies KEover the bins:\n",
    "        KE_allframe[:, i] = bin_averages(dump_bin, KE_sorted[:, 1]); #print(KE_allframe[:, i].shape)\n",
    "        Z_avg = bin_averages(dump_bin, Z_pos)     # Bin centers"
   ]
  },
  {
   "cell_type": "code",
   "execution_count": 7,
   "id": "3ec7dbac",
   "metadata": {},
   "outputs": [],
   "source": [
    "# KE_allframe"
   ]
  },
  {
   "cell_type": "code",
   "execution_count": 8,
   "id": "88a35483",
   "metadata": {},
   "outputs": [
    {
     "name": "stdout",
     "output_type": "stream",
     "text": [
      "Reading frame complete\n",
      "Total columns: 41\n",
      "Columns used for avg: 39\n"
     ]
    },
    {
     "data": {
      "image/png": "[encoded data removed]",
      "text/plain": [
       "<Figure size 432x288 with 1 Axes>"
      ]
     },
     "metadata": {
      "needs_background": "light"
     },
     "output_type": "display_data"
    }
   ],
   "source": [
    "print(\"Reading frame complete\")\n",
    "\n",
    "print(\"Total columns:\", KE_allframe.shape[1])\n",
    "n_column = ene_avg_freq*(KE_allframe.shape[1]//ene_avg_freq); print(\"Columns used for avg:\", n_column)\n",
    "\n",
    "loop = int(n_column/ene_avg_freq); #print(loop)\n",
    "col_bins = np.array([(i*ene_avg_freq) for i in range(int(loop+1))]); #print(col_bins)\n",
    "Time_avg_KE = np.zeros((KE_allframe.shape[0], loop))\n",
    "for i in range(int(loop)):\n",
    "#     print((col_bins[i], col_bins[i+1]))\n",
    "    Time_avg_KE[:, i] = np.mean(KE_allframe[:, col_bins[i]:col_bins[i+1]], axis=1)\n",
    "\n",
    "# Saving all the data:\n",
    "np.savetxt(\"KE_spatial_binavg_refene.dat\", KE_avg_ref)\n",
    "np.savetxt(\"PE_spatial_binavg_refene.dat\", PE_avg_ref)\n",
    "np.savetxt(\"TE_spatial_binavg_refene.dat\", TE_avg_ref)\n",
    "np.savetxt(\"KE_spatial_binavg.dat\", KE_allframe)\n",
    "np.savetxt(\"Time_avg_KE.dat\", Time_avg_KE)\n",
    "\n",
    "Time = np.arange(Time_avg_KE.shape[1])*2*ene_avg_freq\n",
    "Time[0::skip_frame]\n",
    "labels = [str(time) + \"ps\" for time in Time]\n",
    "plt.plot(Z_avg, Time_avg_KE[:, 0::skip_frame], '-')\n",
    "plt.xlabel('Bin centers')\n",
    "plt.ylabel('KE [eV]')\n",
    "plt.title('Spatial energy distribution')\n",
    "plt.legend(labels)\n",
    "plt.savefig(\"Spatial_KE_dist.png\", dpi= 200, bbox_inches = 'tight', facecolor=\"w\")\n",
    "plt.show()"
   ]
  },
  {
   "cell_type": "code",
   "execution_count": null,
   "id": "2cf7fa89",
   "metadata": {},
   "outputs": [],
   "source": []
  },
  {
   "cell_type": "code",
   "execution_count": null,
   "id": "85c0ae23",
   "metadata": {},
   "outputs": [],
   "source": []
  },
  {
   "cell_type": "code",
   "execution_count": null,
   "id": "2191d7bf",
   "metadata": {},
   "outputs": [],
   "source": []
  },
  {
   "cell_type": "code",
   "execution_count": null,
   "id": "73d244ec",
   "metadata": {},
   "outputs": [],
   "source": []
  },
  {
   "cell_type": "code",
   "execution_count": null,
   "id": "9a92936c",
   "metadata": {},
   "outputs": [],
   "source": []
  },
  {
   "cell_type": "code",
   "execution_count": null,
   "id": "6ede3aed",
   "metadata": {},
   "outputs": [],
   "source": []
  },
  {
   "cell_type": "code",
   "execution_count": null,
   "id": "6b0c8c15",
   "metadata": {},
   "outputs": [],
   "source": []
  },
  {
   "cell_type": "code",
   "execution_count": null,
   "id": "121d054c",
   "metadata": {},
   "outputs": [],
   "source": []
  },
  {
   "cell_type": "code",
   "execution_count": null,
   "id": "afaa9b31",
   "metadata": {},
   "outputs": [],
   "source": []
  },
  {
   "cell_type": "code",
   "execution_count": null,
   "id": "a0c6cd34",
   "metadata": {},
   "outputs": [],
   "source": []
  },
  {
   "cell_type": "code",
   "execution_count": null,
   "id": "281cea2e",
   "metadata": {},
   "outputs": [],
   "source": []
  }
 ],
 "metadata": {
  "kernelspec": {
   "display_name": "Python 3 (ipykernel)",
   "language": "python",
   "name": "python3"
  },
  "language_info": {
   "codemirror_mode": {
    "name": "ipython",
    "version": 3
   },
   "file_extension": ".py",
   "mimetype": "text/x-python",
   "name": "python",
   "nbconvert_exporter": "python",
   "pygments_lexer": "ipython3",
   "version": "3.9.5"
  }
 },
 "nbformat": 4,
 "nbformat_minor": 5
}

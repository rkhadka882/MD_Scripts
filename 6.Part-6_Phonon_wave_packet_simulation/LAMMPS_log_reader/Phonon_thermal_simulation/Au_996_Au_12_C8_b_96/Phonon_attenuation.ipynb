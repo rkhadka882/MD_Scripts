{
 "cells": [
  {
   "cell_type": "code",
   "execution_count": 1,
   "id": "ba71fbcb",
   "metadata": {},
   "outputs": [],
   "source": [
    "import numpy as np\n",
    "import sys\n",
    "import os\n",
    "import seaborn as sns\n",
    "import matplotlib.pyplot as plt\n",
    "import cmath"
   ]
  },
  {
   "cell_type": "code",
   "execution_count": 2,
   "id": "1a16507f",
   "metadata": {},
   "outputs": [],
   "source": [
    "# Definitions:\n",
    "\n",
    "def bin_averages(bins, array):\n",
    "    \"\"\"bins = contains number of lines to average in each bin, dump_bin\n",
    "       array = contains TE, KE, PE array with each column representing frames\"\"\"\n",
    "    start_idx = 0\n",
    "    arr_avg = []\n",
    "    for interval in bins:\n",
    "        end_idx = start_idx + interval\n",
    "        subset = array[start_idx:end_idx]\n",
    "        avg = np.mean(subset, axis=0)\n",
    "        arr_avg.append(avg)\n",
    "        start_idx = end_idx\n",
    "    return np.array(arr_avg)"
   ]
  },
  {
   "cell_type": "code",
   "execution_count": 3,
   "id": "e98af324",
   "metadata": {},
   "outputs": [],
   "source": [
    "# Input variables:\n",
    "N_bins = 100                         # use 200, number of bins to be used\n",
    "\n",
    "relaxid = \"388586\"\n",
    "dump_file = \"dump_trial.lmc\"         # LAMMPS outfile \n",
    "dump_ref_ene = \"baseline_energy_388586.lmc\" # Contains information of baseline energy/atom\n",
    "\n",
    "Lz = 4733.74             # Length of box in Z-direction in Angstrom, required to correct PBC\n",
    "N_atoms = 681120         # Number of atoms\n",
    "N_layeratom = 360        # Number of atoms in each Au(111) layer N_atoms/N_layer\n",
    "offset_p = 38            # Lines to skip in data file"
   ]
  },
  {
   "cell_type": "code",
   "execution_count": 4,
   "id": "bdb3ba5f",
   "metadata": {},
   "outputs": [],
   "source": [
    "# Reading the baseline_energy dump file:\n",
    "with open(dump_ref_ene, \"r\") as file:\n",
    "    elines = file.readlines()\n",
    "    eline = elines[11:]\n",
    "\n",
    "    dump_ref = np.array([list(map(float, line.strip().split())) for line in eline])\n",
    "    sorted_index = np.argsort(dump_ref[:, -4])   # Z_position    \n",
    "    dump_ref = dump_ref[sorted_index]            # All the dump values sorted a/c to Z-position\n",
    "#     print(\"Shape of position:\", dump_pos.shape)\n",
    "    Z_pos_ref = dump_ref[:, -4]\n",
    "    \n",
    "# Extracting energies, sorted a/c to Z-position, low Z to high Z\n",
    "    TE_ref = dump_ref[:, -1]\n",
    "    KE_ref = dump_ref[:, -2]\n",
    "    PE_ref = dump_ref[:, -3]"
   ]
  },
  {
   "cell_type": "code",
   "execution_count": 5,
   "id": "a68e70e9",
   "metadata": {},
   "outputs": [
    {
     "name": "stdout",
     "output_type": "stream",
     "text": [
      "4086774\n"
     ]
    }
   ],
   "source": [
    "# Reading the dump file:\n",
    "with open(dump_file, \"r\") as file:\n",
    "    lines = file.readlines()\n",
    "    print(len(lines))"
   ]
  },
  {
   "cell_type": "code",
   "execution_count": 6,
   "id": "c344a941",
   "metadata": {},
   "outputs": [
    {
     "name": "stdout",
     "output_type": "stream",
     "text": [
      "Number of bins: 100 Bin width: 47.33738584993999 A\n"
     ]
    }
   ],
   "source": [
    "xlo = list(map(float, lines[5].strip().split()))[0]\n",
    "xhi = list(map(float, lines[5].strip().split()))[1]\n",
    "ylo = list(map(float, lines[6].strip().split()))[0]\n",
    "yhi = list(map(float, lines[6].strip().split()))[1]\n",
    "zlo = list(map(float, lines[7].strip().split()))[0]\n",
    "zhi = list(map(float, lines[7].strip().split()))[1]\n",
    "\n",
    "bin_width = (zhi-zlo)/N_bins         # in Angstrom\n",
    "print(\"Number of bins:\", N_bins, \"Bin width:\", bin_width, \"A\")"
   ]
  },
  {
   "cell_type": "code",
   "execution_count": 7,
   "id": "8ccf3d82",
   "metadata": {},
   "outputs": [],
   "source": [
    "Total_lines = len(lines)                    # Total no. of lines\n",
    "Total_frames = Total_lines//(N_atoms + 9)    # Count all the frames"
   ]
  },
  {
   "cell_type": "code",
   "execution_count": 8,
   "id": "051cbbcd",
   "metadata": {},
   "outputs": [],
   "source": [
    "# Dump format: x = 4, y = 5, z=6, PE=7, KE=8, TE=9\n",
    "offset_p = 9\n",
    "Z_pos = np.zeros((N_atoms, Total_frames)) # 358560 X 14(frames)\n",
    "TE = np.zeros((N_atoms, Total_frames))    # Total energy\n",
    "KE = np.zeros((N_atoms, Total_frames))    # Kinetic energy\n",
    "PE = np.zeros((N_atoms, Total_frames))    # Potential energy\n",
    "\n",
    "\n",
    "for i in np.arange(Total_frames):\n",
    "    # Read position data:\n",
    "    a = int(N_atoms*i + offset_p*(i+1))\n",
    "    b = int((N_atoms + offset_p)*(i+1))\n",
    "    plines = lines[a:b]\n",
    "\n",
    "    dump_pos = np.array([list(map(float, line.strip().split())) for line in plines])\n",
    "    sorted_index = np.argsort(dump_pos[:, -4])       \n",
    "    dump_pos = dump_pos[sorted_index]            # All the dump values sorted a/c to Z-position\n",
    "#     print(\"Shape of position:\", dump_pos.shape)\n",
    "    Z_pos[:, i] = dump_pos[:, -4]\n",
    "    \n",
    "# Extracting energies, sorted a/c to Z-position, low Z to high Z\n",
    "    TE[:, i] = dump_pos[:, -1]\n",
    "    KE[:, i] = dump_pos[:, -2]\n",
    "    PE[:, i] = dump_pos[:, -3]\n",
    "  "
   ]
  },
  {
   "cell_type": "code",
   "execution_count": 9,
   "id": "7ce08c27",
   "metadata": {},
   "outputs": [],
   "source": [
    "bins = np.array([(zlo+i*bin_width) for i in range(N_bins)]);\n",
    "# print(\"First 5 bins:\\n\",[(bins[i], bins[i+1]) for i in range(len(bins)-1)][0:5])\n",
    "\n",
    "binned_data = {}                       # Dictionary\n",
    "for z in Z_pos[:, 0]:\n",
    "    if z < zlo or z >= zhi:\n",
    "        continue\n",
    "    bin_num = (z - zlo) // bin_width;  # Calculates the bin numbers\n",
    "    if bin_num in binned_data:\n",
    "        binned_data[bin_num].append(z) # use the bin number and collect the z values\n",
    "    else:\n",
    "        binned_data[bin_num] = [z]   \n",
    "        \n",
    "dump_bin = np.array([len(binned_data[i]) for i \n",
    "                     in range(len(binned_data))]) # calculates no. of lines to average"
   ]
  },
  {
   "cell_type": "code",
   "execution_count": 10,
   "id": "44f4b52a",
   "metadata": {},
   "outputs": [],
   "source": [
    "# Averaging the reference energies:\n",
    "KE_avg_ref = bin_averages(dump_bin, KE_ref)\n",
    "PE_avg_ref = bin_averages(dump_bin, PE_ref)\n",
    "TE_avg_ref = bin_averages(dump_bin, TE_ref)\n",
    "\n",
    "# Now lets average the energies TE, KE, PE over the bins and subtract the baseline energy:\n",
    "KE_avg = bin_averages(dump_bin, KE) - KE_avg_ref[:, None] @ np.ones((1, Total_frames))\n",
    "PE_avg = bin_averages(dump_bin, PE) - PE_avg_ref[:, None] @ np.ones((1, Total_frames))\n",
    "TE_avg = bin_averages(dump_bin, TE) - TE_avg_ref[:, None] @ np.ones((1, Total_frames))\n",
    "Z_avg = bin_averages(dump_bin, Z_pos)     # Bin centers\n",
    "\n",
    "# Subtracting energy of first frame:\n",
    "# TE_avg = TE_avg - TE_avg[:, 0][:, None] @ np.ones((1, Total_frames))\n",
    "\n",
    "# Saving the raw_energy_values:\n",
    "np.savetxt(\"KE_bins.dat\", np.hstack((Z_avg[:,0][:, None], KE_avg)))\n",
    "np.savetxt(\"PE_bins.dat\", np.hstack((Z_avg[:,0][:, None], PE_avg)))\n",
    "np.savetxt(\"TE_bins.dat\", np.hstack((Z_avg[:,0][:, None], TE_avg)))"
   ]
  },
  {
   "cell_type": "code",
   "execution_count": 11,
   "id": "37e4a417",
   "metadata": {},
   "outputs": [],
   "source": [
    "# Taking the absolute value and dividing by kB:\n",
    "kB = 8.617333262e-5         #eVK-1\n",
    "KE_avg = np.abs(KE_avg)\n",
    "PE_avg = np.abs(PE_avg)\n",
    "TE_avg = np.abs(TE_avg)"
   ]
  },
  {
   "cell_type": "code",
   "execution_count": 12,
   "id": "1c28810b",
   "metadata": {},
   "outputs": [],
   "source": [
    "ene_avg_freq = 3        # Every 2 frames, if frames are dumped every ps then every 2 ps\n",
    "x = KE_avg.shape[0]\n",
    "y = KE_avg.shape[1]\n",
    "KE_avg_fram = np.mean(KE_avg.reshape((x, y//ene_avg_freq, ene_avg_freq)), axis=-1)\n",
    "PE_avg_fram = np.mean(PE_avg.reshape((x, y//ene_avg_freq, ene_avg_freq)), axis=-1)\n",
    "TE_avg_fram = np.mean(TE_avg.reshape((x, y//ene_avg_freq, ene_avg_freq)), axis=-1)"
   ]
  },
  {
   "cell_type": "code",
   "execution_count": 13,
   "id": "ce866a58",
   "metadata": {},
   "outputs": [],
   "source": [
    "# Saving the energies after averaging the frames\n",
    "np.savetxt(\"KE_bins_frames.dat\", np.hstack((Z_avg[:,0][:, None], KE_avg_fram)))\n",
    "np.savetxt(\"PE_bins_frames.dat\", np.hstack((Z_avg[:,0][:, None], PE_avg_fram)))\n",
    "np.savetxt(\"TE_bins_frames.dat\", np.hstack((Z_avg[:,0][:, None], TE_avg_fram)))"
   ]
  },
  {
   "cell_type": "code",
   "execution_count": 17,
   "id": "460904ac",
   "metadata": {},
   "outputs": [
    {
     "data": {
      "image/png": "[encoded data removed]",
      "text/plain": [
       "<Figure size 432x288 with 1 Axes>"
      ]
     },
     "metadata": {
      "needs_background": "light"
     },
     "output_type": "display_data"
    }
   ],
   "source": [
    "plt.plot(Z_avg[:, 0], KE_avg_fram, '-', label='KE')\n",
    "plt.xlabel('Bin centers')\n",
    "plt.ylabel('KE [eV]')\n",
    "plt.title('Spatial energy distribution')\n",
    "plt.legend()\n",
    "plt.show()"
   ]
  },
  {
   "cell_type": "code",
   "execution_count": null,
   "id": "6995982d",
   "metadata": {},
   "outputs": [],
   "source": []
  },
  {
   "cell_type": "code",
   "execution_count": null,
   "id": "391098f6",
   "metadata": {},
   "outputs": [],
   "source": []
  },
  {
   "cell_type": "code",
   "execution_count": null,
   "id": "e97e6d56",
   "metadata": {},
   "outputs": [],
   "source": []
  },
  {
   "cell_type": "code",
   "execution_count": null,
   "id": "fbfb378f",
   "metadata": {},
   "outputs": [],
   "source": []
  }
 ],
 "metadata": {
  "kernelspec": {
   "display_name": "Python 3 (ipykernel)",
   "language": "python",
   "name": "python3"
  },
  "language_info": {
   "codemirror_mode": {
    "name": "ipython",
    "version": 3
   },
   "file_extension": ".py",
   "mimetype": "text/x-python",
   "name": "python",
   "nbconvert_exporter": "python",
   "pygments_lexer": "ipython3",
   "version": "3.9.5"
  }
 },
 "nbformat": 4,
 "nbformat_minor": 5
}

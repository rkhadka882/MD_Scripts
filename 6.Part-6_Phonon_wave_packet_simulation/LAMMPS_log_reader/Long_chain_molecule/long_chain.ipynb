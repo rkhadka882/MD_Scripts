{
 "cells": [
  {
   "cell_type": "code",
   "execution_count": 1,
   "id": "cc590341",
   "metadata": {},
   "outputs": [],
   "source": [
    "import numpy as np\n",
    "import sys\n",
    "import os\n",
    "import seaborn as sns\n",
    "import matplotlib.pyplot as plt\n",
    "import cmath"
   ]
  },
  {
   "cell_type": "code",
   "execution_count": 2,
   "id": "9a926fcf",
   "metadata": {},
   "outputs": [],
   "source": [
    "CC = 1.5147  # in angstroms\n",
    "SC = 1.82  # in angstroms\n",
    "CCC = 109.5 * (np.pi / 180)  # convert to radians\n",
    "chainlength = 7000\n",
    "\n",
    "# Types of atoms, bondtypes, angletypes, dihedral types\n",
    "a_type = 2  # atoms type C=2, S=3\n",
    "b_type = 2  # CC=1, CS = 2\n",
    "ang_type = 2  # CCC = 1, SCC = 2\n",
    "dih_type = 2  # CCCC = 1, SCCC = 2\n"
   ]
  },
  {
   "cell_type": "code",
   "execution_count": 3,
   "id": "3cb202c6",
   "metadata": {},
   "outputs": [],
   "source": [
    "def generate_linear_coordinates(CC, SC, CCC, chainlength):\n",
    "    bond_length_c_c = CC  # in angstroms\n",
    "    bond_length_s_c = SC  # in angstroms\n",
    "    bond_angle_c_c_c = CCC # convert to radians\n",
    "    # C= 1 # type-1\n",
    "    # S = 2 # type-2\n",
    "    \n",
    "    coords = []\n",
    "    \n",
    "    # First sulfur atom\n",
    "    coords.append([3, 0.0, 0.0, 0.0])\n",
    "    \n",
    "    # First carbon atom\n",
    "    x = bond_length_s_c*np.sin(bond_angle_c_c_c/2)\n",
    "    coords.append([2, 0, 0, x])\n",
    "    \n",
    "    # Generate coordinates for the other carbon atoms\n",
    "    for i in range(1, chainlength):\n",
    "        x += bond_length_c_c*np.sin(bond_angle_c_c_c/2)\n",
    "        coords.append([2, 0, 0, x])\n",
    "    \n",
    "    # Second sulfur atom\n",
    "    x += bond_length_s_c*np.sin(bond_angle_c_c_c/2)\n",
    "    coords.append([3, 0, 0, x])\n",
    "    \n",
    "    return coords\n",
    "\n",
    "def write_xyz_file(filename, coordinates):\n",
    "    with open(filename, \"w\") as f:\n",
    "        f.write(f\"{len(coordinates)}\\n\")\n",
    "        f.write(\"S-C8-S molecule\\n\")\n",
    "        for coord in coordinates:\n",
    "            f.write(f\"{str(coord[0])} {coord[1]:.6f} {coord[2]:.6f} {coord[3]:.6f}\\n\")"
   ]
  },
  {
   "cell_type": "code",
   "execution_count": 4,
   "id": "f1765eb8",
   "metadata": {},
   "outputs": [
    {
     "data": {
      "image/png": "[encoded data removed]",
      "text/plain": [
       "<Figure size 432x288 with 1 Axes>"
      ]
     },
     "metadata": {
      "needs_background": "light"
     },
     "output_type": "display_data"
    }
   ],
   "source": [
    "coordinates = generate_linear_coordinates(CC, SC, CCC, chainlength)\n",
    "coordinates = np.array(coordinates)\n",
    "coordinates[1::2][:, 2] = coordinates[1::2][:, 2] + CC*np.cos(CCC/2)\n",
    "\n",
    "plt.plot(coordinates[:, 3], coordinates[:, 2], 'o-', markersize=1)\n",
    "plt.ylim(-5, 5)\n",
    "plt.xlabel('Z-position [A]')\n",
    "plt.ylabel('Y-position [A]')\n",
    "plt.show()"
   ]
  },
  {
   "cell_type": "code",
   "execution_count": 5,
   "id": "df619611",
   "metadata": {},
   "outputs": [],
   "source": [
    "atom_id = np.arange(coordinates.shape[0])+1\n",
    "molecule_id = np.ones(coordinates.shape[0])\n",
    "charge = np.zeros(coordinates.shape[0])\n",
    "atom_type = coordinates[:, 0]\n",
    "xyz = coordinates[:, 1:]\n",
    "atom_full = np.hstack((atom_id[:, None], molecule_id[:, None], atom_type[:, None], charge[:, None], xyz))"
   ]
  },
  {
   "cell_type": "code",
   "execution_count": 6,
   "id": "0bf9f539",
   "metadata": {},
   "outputs": [],
   "source": [
    "# Calculating the bond ids:\n",
    "\n",
    "bond_type = np.zeros(atom_full.shape[0]-1)\n",
    "bonds = np.zeros((atom_full.shape[0]-1, 4))\n",
    "for i in range(atom_full.shape[0]-1):\n",
    "    \n",
    "    x = int(atom_full[:, 0][i:i+2][0])-1  # used for checking bond type\n",
    "    y = int(atom_full[:, 0][i:i+2][1])-1  # used for checking bond type\n",
    "\n",
    "    if atom_full[x, 2] == 2 and atom_full[y, 2] == 2:\n",
    "        bt = 1\n",
    "    if  atom_full[x, 2] == 3 or atom_full[y, 2] == 3:\n",
    "        bt = 2\n",
    "    bond_type[i] = bt\n",
    "#     print(i+1, bond_type[i], atom_full[:, 0][i:i+2])\n",
    "    bonds[i, 0] = i+1\n",
    "    bonds[i, 1] = bond_type[i]\n",
    "    bonds[i, 2] = atom_full[:, 0][i:i+2][0]\n",
    "    bonds[i, 3] = atom_full[:, 0][i:i+2][1]\n",
    "\n",
    "# print(bonds)"
   ]
  },
  {
   "cell_type": "code",
   "execution_count": 7,
   "id": "9b2221e1",
   "metadata": {},
   "outputs": [],
   "source": [
    "# Calculating the angle ids:\n",
    "\n",
    "angle_type = np.zeros(atom_full.shape[0]-2)\n",
    "angles = np.zeros((atom_full.shape[0]-2, 5))\n",
    "for i in range(atom_full.shape[0]-2):\n",
    "    \n",
    "    x = int(atom_full[:, 0][i:i+3][0])-1  # used for checking bond type\n",
    "    y = int(atom_full[:, 0][i:i+3][1])-1  # used for checking bond type\n",
    "    z = int(atom_full[:, 0][i:i+3][2])-1  # used for checking bond type\n",
    "\n",
    "    if atom_full[x, 2] == 2 and atom_full[y, 2] == 2 and atom_full[z, 2] == 2:\n",
    "        at = 1\n",
    "    if  atom_full[x, 2] == 3 or atom_full[y, 2] == 3 or atom_full[z, 2] == 3:\n",
    "        at = 2\n",
    "    angle_type[i] = at\n",
    "#     print(i+1, bond_type[i], atom_full[:, 0][i:i+2])\n",
    "    angles[i, 0] = i+1\n",
    "    angles[i, 1] = angle_type[i]\n",
    "    angles[i, 2] = atom_full[:, 0][i:i+3][0]\n",
    "    angles[i, 3] = atom_full[:, 0][i:i+3][1]\n",
    "    angles[i, 4] = atom_full[:, 0][i:i+3][2]\n",
    "\n",
    "# print(angles)"
   ]
  },
  {
   "cell_type": "code",
   "execution_count": 8,
   "id": "6013f955",
   "metadata": {},
   "outputs": [],
   "source": [
    "# Calculating the dihedral angle ids:\n",
    "\n",
    "dangle_type = np.zeros(atom_full.shape[0]-3)\n",
    "dangles = np.zeros((atom_full.shape[0]-3, 6))\n",
    "for i in range(atom_full.shape[0]-3):\n",
    "    \n",
    "    x = int(atom_full[:, 0][i:i+4][0])-1  # used for checking bond type\n",
    "    y = int(atom_full[:, 0][i:i+4][1])-1  # used for checking bond type\n",
    "    z = int(atom_full[:, 0][i:i+4][2])-1  # used for checking bond type\n",
    "    w = int(atom_full[:, 0][i:i+4][3])-1  # used for checking bond type\n",
    "    if atom_full[x, 2] == 2 and atom_full[y, 2] == 2 and atom_full[z, 2] == 2 and atom_full[w, 2] == 2:\n",
    "        dat = 1\n",
    "    if atom_full[x, 2] == 3 or atom_full[y, 2] == 3 or atom_full[z, 2] == 3 or atom_full[w, 2] == 3:\n",
    "        dat = 2\n",
    "    dangle_type[i] = dat\n",
    "#     print(i+1, bond_type[i], atom_full[:, 0][i:i+2])\n",
    "    dangles[i, 0] = i+1\n",
    "    dangles[i, 1] = dangle_type[i]\n",
    "    dangles[i, 2] = atom_full[:, 0][i:i+4][0]\n",
    "    dangles[i, 3] = atom_full[:, 0][i:i+4][1]\n",
    "    dangles[i, 4] = atom_full[:, 0][i:i+4][2]\n",
    "    dangles[i, 5] = atom_full[:, 0][i:i+4][3]\n",
    "\n",
    "# print(dangles)"
   ]
  },
  {
   "cell_type": "code",
   "execution_count": 9,
   "id": "120d07cd",
   "metadata": {},
   "outputs": [
    {
     "data": {
      "text/plain": [
       "0.0"
      ]
     },
     "execution_count": 9,
     "metadata": {},
     "output_type": "execute_result"
    }
   ],
   "source": [
    "atom_full[0, 4:][0]  # xlo\n",
    "atom_full[-1, 4:][0]  # xhi"
   ]
  },
  {
   "cell_type": "code",
   "execution_count": 10,
   "id": "eac69767",
   "metadata": {},
   "outputs": [],
   "source": [
    "chain_str = f'chain_structure_{chainlength}.lmp'\n",
    "n_atoms = chainlength + 2\n",
    "n_bonds = bonds.shape[0]\n",
    "n_angles = angles.shape[0]\n",
    "n_dihedrals = dangles.shape[0]\n",
    "\n",
    "a_type = 3  # atoms type C=2, S=3\n",
    "b_type = 2  # CC=1, CS = 2\n",
    "ang_type = 2  # CCC = 1, SCC = 2\n",
    "dih_type = 2  # CCCC = 1, SCCC = 2\n",
    "\n",
    "xlo = atom_full[0, 4:][0] -2 \n",
    "xhi = atom_full[-1, 4:][0] + 2\n",
    "ylo = atom_full[0, 5:][0] -2\n",
    "yhi = atom_full[-1, 5:][0] + 2\n",
    "zlo = atom_full[0, 6:][0] -2\n",
    "zhi = atom_full[-1, 6:][0] + 2\n",
    "\n",
    "with open(chain_str, \"w\") as file:\n",
    "    file.write(\"# LAMMPS chain structure written by python\" + \"\\n\")\n",
    "    file.write(str(int(n_atoms))+ '\\t' + \"atoms\" +\"\\n\")\n",
    "    file.write(str(int(n_bonds))+ '\\t' + \"bonds\" +\"\\n\")\n",
    "    file.write(str(int(n_angles))+ '\\t' + \"angles\" +\"\\n\")\n",
    "    file.write(str(int(n_dihedrals))+ '\\t' + \"dihedrals\" +\"\\n\")\n",
    "    file.write(\"\\n\")\n",
    "    \n",
    "    file.write(str(int(a_type))+ '\\t' + \"atom types\" +\"\\n\")\n",
    "    file.write(str(int(b_type))+ '\\t' + \"bond types\" +\"\\n\")\n",
    "    file.write(str(int(ang_type))+ '\\t' + \"angle types\" +\"\\n\")\n",
    "    file.write(str(int(dih_type))+ '\\t' + \"dihedral types\" +\"\\n\")\n",
    "    \n",
    "    file.write(str(float(xlo))+ \" \" + str(float(xhi))+ \" \"+ \"xlo\" + \" \" + \"xhi\"+ \"\\n\")\n",
    "    file.write(str(float(ylo))+ \" \" + str(float(yhi))+ \" \"+ \"ylo\" + \" \" + \"yhi\"+ \"\\n\")\n",
    "    file.write(str(float(zlo))+ \" \" + str(float(zhi))+ \" \"+ \"zlo\" + \" \" + \"zhi\"+ \"\\n\")\n",
    "    \n",
    "    file.write(\"\\nMasses\" + \"\\n\")\n",
    "    file.write(\"\\n\")\n",
    "    file.write(\"1\" + \" \" + \"196.9665\" + \"  \" + \"# Au\" + \"\\n\")\n",
    "    file.write(\"2\" + \" \" + \"14.0107\" + \"  \" + \"# C\" + \"\\n\")\n",
    "    file.write(\"3\" + \" \" + \"32.065\" + \"  \" + \"# S\" + \"\\n\")\n",
    "    \n",
    "    file.write(\"\\nAtoms # full\" + \"\\n\")\n",
    "    file.write(\"\\n\")\n",
    "    # Write atomic co-ordinates:\n",
    "    for item in atom_full:\n",
    "        file.write(str(int(item[0]))+ '\\t' + str(int(item[1]))+ '\\t' +\n",
    "                          str(int(item[2]))+ '\\t' + \n",
    "                          '\\t'.join(str(elem) for elem in item[3:]) + '\\n')\n",
    "    # Write bond ids:\n",
    "    file.write(\"\\n\")\n",
    "    file.write(\"Bonds\" + \"\\n\")\n",
    "    file.write(\"\\n\")\n",
    "    \n",
    "    for item in bonds:\n",
    "        file.write(str(int(item[0]))+ '\\t' + str(int(item[1]))+ '\\t' \n",
    "                   + str(int(item[2]))+ '\\t' + str(int(item[3]))+ '\\n')\n",
    "    # Write angle ids:\n",
    "    file.write(\"\\n\")\n",
    "    file.write(\"Angles\" + \"\\n\")\n",
    "    file.write(\"\\n\")\n",
    "    \n",
    "    for item in angles:\n",
    "        file.write(str(int(item[0]))+ '\\t' + str(int(item[1]))+ '\\t' + str(int(item[2]))+ '\\t' \n",
    "                   + str(int(item[3]))+ '\\t'+ str(int(item[4])) + '\\n') \n",
    "        \n",
    "    # Write dihedral ids:\n",
    "    file.write(\"\\n\")\n",
    "    file.write(\"Dihedrals\" + \"\\n\")\n",
    "    file.write(\"\\n\")\n",
    "    \n",
    "    for item in dangles:\n",
    "        file.write(str(int(item[0]))+ '\\t' + str(int(item[1]))+ '\\t' + str(int(item[2]))+ '\\t' \n",
    "                   + str(int(item[3]))+ '\\t'+ str(int(item[4])) + '\\t'+ str(int(item[5]))+ '\\n')  "
   ]
  },
  {
   "cell_type": "code",
   "execution_count": 11,
   "id": "866e5327",
   "metadata": {},
   "outputs": [],
   "source": [
    "# Purely xyz co-ordinate:\n",
    "coordinates_str = coordinates.astype('object')\n",
    "coordinates_str[coordinates[:, 0] == 2, 0] = 'C'\n",
    "coordinates_str[coordinates[:, 0] == 3, 0] = 'S'\n",
    "write_xyz_file(\"Octane.xyz\", coordinates_str)"
   ]
  },
  {
   "cell_type": "code",
   "execution_count": null,
   "id": "d2900e8e",
   "metadata": {},
   "outputs": [],
   "source": []
  }
 ],
 "metadata": {
  "kernelspec": {
   "display_name": "Python 3 (ipykernel)",
   "language": "python",
   "name": "python3"
  },
  "language_info": {
   "codemirror_mode": {
    "name": "ipython",
    "version": 3
   },
   "file_extension": ".py",
   "mimetype": "text/x-python",
   "name": "python",
   "nbconvert_exporter": "python",
   "pygments_lexer": "ipython3",
   "version": "3.9.5"
  }
 },
 "nbformat": 4,
 "nbformat_minor": 5
}
